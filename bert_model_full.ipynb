{
 "cells": [
  {
   "cell_type": "code",
   "execution_count": null,
   "metadata": {
    "colab": {
     "base_uri": "https://localhost:8080/"
    },
    "id": "CBi61-UHBaov",
    "outputId": "07bdb985-6dcd-419b-c302-71c3eb6f4009"
   },
   "outputs": [
    {
     "name": "stdout",
     "output_type": "stream",
     "text": [
      "Requirement already satisfied: transformers in /usr/local/lib/python3.6/dist-packages (4.1.1)\n",
      "Requirement already satisfied: tokenizers==0.9.4 in /usr/local/lib/python3.6/dist-packages (from transformers) (0.9.4)\n",
      "Requirement already satisfied: tqdm>=4.27 in /usr/local/lib/python3.6/dist-packages (from transformers) (4.41.1)\n",
      "Requirement already satisfied: packaging in /usr/local/lib/python3.6/dist-packages (from transformers) (20.8)\n",
      "Requirement already satisfied: regex!=2019.12.17 in /usr/local/lib/python3.6/dist-packages (from transformers) (2019.12.20)\n",
      "Requirement already satisfied: sacremoses in /usr/local/lib/python3.6/dist-packages (from transformers) (0.0.43)\n",
      "Requirement already satisfied: dataclasses; python_version < \"3.7\" in /usr/local/lib/python3.6/dist-packages (from transformers) (0.8)\n",
      "Requirement already satisfied: numpy in /usr/local/lib/python3.6/dist-packages (from transformers) (1.19.4)\n",
      "Requirement already satisfied: filelock in /usr/local/lib/python3.6/dist-packages (from transformers) (3.0.12)\n",
      "Requirement already satisfied: requests in /usr/local/lib/python3.6/dist-packages (from transformers) (2.23.0)\n",
      "Requirement already satisfied: pyparsing>=2.0.2 in /usr/local/lib/python3.6/dist-packages (from packaging->transformers) (2.4.7)\n",
      "Requirement already satisfied: joblib in /usr/local/lib/python3.6/dist-packages (from sacremoses->transformers) (1.0.0)\n",
      "Requirement already satisfied: click in /usr/local/lib/python3.6/dist-packages (from sacremoses->transformers) (7.1.2)\n",
      "Requirement already satisfied: six in /usr/local/lib/python3.6/dist-packages (from sacremoses->transformers) (1.15.0)\n",
      "Requirement already satisfied: certifi>=2017.4.17 in /usr/local/lib/python3.6/dist-packages (from requests->transformers) (2020.12.5)\n",
      "Requirement already satisfied: idna<3,>=2.5 in /usr/local/lib/python3.6/dist-packages (from requests->transformers) (2.10)\n",
      "Requirement already satisfied: chardet<4,>=3.0.2 in /usr/local/lib/python3.6/dist-packages (from requests->transformers) (3.0.4)\n",
      "Requirement already satisfied: urllib3!=1.25.0,!=1.25.1,<1.26,>=1.21.1 in /usr/local/lib/python3.6/dist-packages (from requests->transformers) (1.24.3)\n"
     ]
    }
   ],
   "source": [
    "!pip install transformers\n",
    "!pip install -q --upgrade ipython\n",
    "!pip install -q --upgrade ipykernel"
   ]
  },
  {
   "cell_type": "code",
   "execution_count": 1,
   "metadata": {
    "id": "i3TMcnieBTlY"
   },
   "outputs": [
    {
     "name": "stderr",
     "output_type": "stream",
     "text": [
      "Failure while loading azureml_run_type_providers. Failed to load entrypoint hyperdrive = azureml.train.hyperdrive:HyperDriveRun._from_run_dto with exception (pywin32 224 (c:\\anaconda\\lib\\site-packages), Requirement.parse('pywin32==227; sys_platform == \"win32\"'), {'docker'}).\n",
      "Failure while loading azureml_run_type_providers. Failed to load entrypoint automl = azureml.train.automl.run:AutoMLRun._from_run_dto with exception (pywin32 224 (c:\\anaconda\\lib\\site-packages), Requirement.parse('pywin32==227; sys_platform == \"win32\"'), {'docker'}).\n",
      "Failure while loading azureml_run_type_providers. Failed to load entrypoint azureml.PipelineRun = azureml.pipeline.core.run:PipelineRun._from_dto with exception (pywin32 224 (c:\\anaconda\\lib\\site-packages), Requirement.parse('pywin32==227; sys_platform == \"win32\"'), {'docker'}).\n",
      "Failure while loading azureml_run_type_providers. Failed to load entrypoint azureml.ReusedStepRun = azureml.pipeline.core.run:StepRun._from_reused_dto with exception (pywin32 224 (c:\\anaconda\\lib\\site-packages), Requirement.parse('pywin32==227; sys_platform == \"win32\"'), {'docker'}).\n",
      "Failure while loading azureml_run_type_providers. Failed to load entrypoint azureml.StepRun = azureml.pipeline.core.run:StepRun._from_dto with exception (pywin32 224 (c:\\anaconda\\lib\\site-packages), Requirement.parse('pywin32==227; sys_platform == \"win32\"'), {'docker'}).\n",
      "Failure while loading azureml_run_type_providers. Failed to load entrypoint azureml.scriptrun = azureml.core.script_run:ScriptRun._from_run_dto with exception (pywin32 224 (c:\\anaconda\\lib\\site-packages), Requirement.parse('pywin32==227; sys_platform == \"win32\"'), {'docker'}).\n"
     ]
    }
   ],
   "source": [
    "import transformers\n",
    "from transformers import BertModel, BertTokenizer, AdamW, get_linear_schedule_with_warmup\n",
    "from transformers import BertConfig,AdamW,BertForSequenceClassification,get_linear_schedule_with_warmup\n",
    "\n",
    "import torch\n",
    "import numpy as np\n",
    "import pandas as pd\n",
    "import seaborn as sns\n",
    "from pylab import rcParams\n",
    "import matplotlib.pyplot as plt\n",
    "from matplotlib import rc\n",
    "from sklearn.model_selection import train_test_split\n",
    "from sklearn.metrics import confusion_matrix, classification_report,accuracy_score\n",
    "from collections import defaultdict\n",
    "from textwrap import wrap\n",
    "from torch import nn, optim\n",
    "from torch.utils.data import Dataset, DataLoader\n",
    "import torch.nn.functional as F\n",
    "import logging\n",
    "import random \n",
    "from tqdm import tqdm, trange,tnrange,tqdm_notebook\n",
    "from torch.optim import AdamW\n",
    "\n",
    "from torch.autograd import Variable\n",
    "logging.basicConfig(level=logging.ERROR)\n",
    "%matplotlib inline\n",
    "%config InlineBackend.figure_format='retina'\n",
    "sns.set(style='whitegrid', palette='muted', font_scale=1.2)\n",
    "HAPPY_COLORS_PALETTE = [\"#01BEFE\", \"#FFDD00\", \"#FF7D00\", \"#FF006D\", \"#ADFF02\", \"#8F00FF\"]\n",
    "sns.set_palette(sns.color_palette(HAPPY_COLORS_PALETTE))\n",
    "rcParams['figure.figsize'] = 12, 8\n",
    "RANDOM_SEED = 42\n",
    "\n",
    "np.random.seed(RANDOM_SEED)\n",
    "torch.manual_seed(RANDOM_SEED)\n",
    "device = torch.device(\"cuda:0\" if torch.cuda.is_available() else \"cpu\")\n",
    "\n",
    "SEED = 19\n",
    "\n",
    "random.seed(SEED)\n",
    "np.random.seed(SEED)\n",
    "torch.manual_seed(SEED)\n",
    "if device == torch.device(\"cuda\"):\n",
    "    torch.cuda.manual_seed_all(SEED)"
   ]
  },
  {
   "cell_type": "markdown",
   "metadata": {
    "id": "3maH-GKkBToP"
   },
   "source": [
    "# Data Preprocessing "
   ]
  },
  {
   "cell_type": "code",
   "execution_count": null,
   "metadata": {
    "colab": {
     "base_uri": "https://localhost:8080/"
    },
    "id": "I-ye4SLgBwkd",
    "outputId": "b71412d1-2daf-4a53-b25f-5e5d1502d21b"
   },
   "outputs": [
    {
     "name": "stdout",
     "output_type": "stream",
     "text": [
      "Mounted at /content/drive\n"
     ]
    }
   ],
   "source": [
    "# from google.colab import drive\n",
    "# drive.mount('/content/drive')"
   ]
  },
  {
   "cell_type": "markdown",
   "metadata": {
    "id": "O-Jx5HFZBToR"
   },
   "source": [
    "Only label dataset was used, the title and abstract of the articles were joined . there are 17 classes of reasearch methods and 100 data points articles avalable in the dataset"
   ]
  },
  {
   "cell_type": "code",
   "execution_count": null,
   "metadata": {
    "colab": {
     "base_uri": "https://localhost:8080/",
     "height": 484
    },
    "id": "ypB-atHSBToV",
    "outputId": "372fa559-c2fd-47c3-e3a7-f53300fdf4ec",
    "scrolled": true
   },
   "outputs": [
    {
     "data": {
      "text/html": [
       "<div>\n",
       "<style scoped>\n",
       "    .dataframe tbody tr th:only-of-type {\n",
       "        vertical-align: middle;\n",
       "    }\n",
       "\n",
       "    .dataframe tbody tr th {\n",
       "        vertical-align: top;\n",
       "    }\n",
       "\n",
       "    .dataframe thead th {\n",
       "        text-align: right;\n",
       "    }\n",
       "</style>\n",
       "<table border=\"1\" class=\"dataframe\">\n",
       "  <thead>\n",
       "    <tr style=\"text-align: right;\">\n",
       "      <th></th>\n",
       "      <th>Unnamed: 0</th>\n",
       "      <th>outlet</th>\n",
       "      <th>journal_name</th>\n",
       "      <th>journal_akronym</th>\n",
       "      <th>year</th>\n",
       "      <th>authors</th>\n",
       "      <th>title</th>\n",
       "      <th>vol</th>\n",
       "      <th>issue</th>\n",
       "      <th>pages</th>\n",
       "      <th>abstract</th>\n",
       "      <th>research_methods</th>\n",
       "      <th>filename</th>\n",
       "    </tr>\n",
       "  </thead>\n",
       "  <tbody>\n",
       "    <tr>\n",
       "      <th>1606</th>\n",
       "      <td>1606</td>\n",
       "      <td>Conference</td>\n",
       "      <td>Proceedings of the International Conference on...</td>\n",
       "      <td>ICIS</td>\n",
       "      <td>2005</td>\n",
       "      <td>Rajiv D. Banker, Sabyasachi Mitra</td>\n",
       "      <td>Impact of Information Technology on Agricultur...</td>\n",
       "      <td>NaN</td>\n",
       "      <td>NaN</td>\n",
       "      <td>None</td>\n",
       "      <td>Empirical research on the value of information...</td>\n",
       "      <td>Data Analytics, Conceptual, Field Study</td>\n",
       "      <td>BankerR#MitraS_2005_Impact of Information Tech...</td>\n",
       "    </tr>\n",
       "    <tr>\n",
       "      <th>1270</th>\n",
       "      <td>1270</td>\n",
       "      <td>Conference</td>\n",
       "      <td>Proceedings of the International Conference on...</td>\n",
       "      <td>ICIS</td>\n",
       "      <td>2015</td>\n",
       "      <td>Oliver Francis Koch, Alexander Benlian</td>\n",
       "      <td>Designing Viral Promotional Campaigns: How Sca...</td>\n",
       "      <td>NaN</td>\n",
       "      <td>NaN</td>\n",
       "      <td>None</td>\n",
       "      <td>Online referrals have become an important mech...</td>\n",
       "      <td>Field Experiment, Conceptual, Survey</td>\n",
       "      <td>KochO#BenlianA_2015_Designing Viral Promotiona...</td>\n",
       "    </tr>\n",
       "    <tr>\n",
       "      <th>1367</th>\n",
       "      <td>1367</td>\n",
       "      <td>Conference</td>\n",
       "      <td>Proceedings of the International Conference on...</td>\n",
       "      <td>ICIS</td>\n",
       "      <td>2015</td>\n",
       "      <td>Junyeong Lee, Jinyoung Min, Heeseok Lee</td>\n",
       "      <td>Setting a Knowledge Boundary for Enhancing Wor...</td>\n",
       "      <td>NaN</td>\n",
       "      <td>NaN</td>\n",
       "      <td>None</td>\n",
       "      <td>Since teams are built around specialized and d...</td>\n",
       "      <td>Survey</td>\n",
       "      <td>LeeJ#MinJ#LeeH_2015_Setting a Knowledge Bounda...</td>\n",
       "    </tr>\n",
       "    <tr>\n",
       "      <th>671</th>\n",
       "      <td>671</td>\n",
       "      <td>Journal</td>\n",
       "      <td>Information Systems Research</td>\n",
       "      <td>ISR</td>\n",
       "      <td>2015</td>\n",
       "      <td>Frago Kourandi, Jan Krämer, Tommaso Valletti</td>\n",
       "      <td>Net Neutrality, Exclusivity Contracts, and Int...</td>\n",
       "      <td>26.0</td>\n",
       "      <td>2.0</td>\n",
       "      <td>320-338</td>\n",
       "      <td>Net neutrality (NN) is believed to prevent the...</td>\n",
       "      <td>Conceptual</td>\n",
       "      <td>KourandiF#KrämerJ#VallettiT_2015_Net Neutralit...</td>\n",
       "    </tr>\n",
       "    <tr>\n",
       "      <th>1212</th>\n",
       "      <td>1212</td>\n",
       "      <td>Conference</td>\n",
       "      <td>Proceedings of the International Conference on...</td>\n",
       "      <td>ICIS</td>\n",
       "      <td>1995</td>\n",
       "      <td>Daniel Robey</td>\n",
       "      <td>Theories that Explain Contradiction: Accountin...</td>\n",
       "      <td>NaN</td>\n",
       "      <td>NaN</td>\n",
       "      <td>None</td>\n",
       "      <td>The potential of information technology to tra...</td>\n",
       "      <td>Literature Review, Opinion</td>\n",
       "      <td>RobeyD_1995_Theories that Explain Contradictio...</td>\n",
       "    </tr>\n",
       "  </tbody>\n",
       "</table>\n",
       "</div>"
      ],
      "text/plain": [
       "      Unnamed: 0  ...                                           filename\n",
       "1606        1606  ...  BankerR#MitraS_2005_Impact of Information Tech...\n",
       "1270        1270  ...  KochO#BenlianA_2015_Designing Viral Promotiona...\n",
       "1367        1367  ...  LeeJ#MinJ#LeeH_2015_Setting a Knowledge Bounda...\n",
       "671          671  ...  KourandiF#KrämerJ#VallettiT_2015_Net Neutralit...\n",
       "1212        1212  ...  RobeyD_1995_Theories that Explain Contradictio...\n",
       "\n",
       "[5 rows x 13 columns]"
      ]
     },
     "execution_count": 7,
     "metadata": {
      "tags": []
     },
     "output_type": "execute_result"
    }
   ],
   "source": [
    "label=pd.read_json('/content/drive/MyDrive/lonformer/LABEL')\n",
    "paper=pd.read_json('/content/drive/MyDrive/lonformer/PAPER.json', orient=str)\n",
    "cite=pd.read_json('/content/drive/MyDrive/lonformer/CITE.json', orient=str)\n",
    "label.head()"
   ]
  },
  {
   "cell_type": "code",
   "execution_count": null,
   "metadata": {
    "id": "hPMfRehbBToe"
   },
   "outputs": [],
   "source": [
    "cite_paper=pd.merge(cite,paper,on='article_id')\n",
    "cite_paper_label=pd.merge(cite_paper,label,on='title')"
   ]
  },
  {
   "cell_type": "code",
   "execution_count": null,
   "metadata": {
    "id": "JscPCUp9BTof"
   },
   "outputs": [],
   "source": [
    "dataset=cite_paper_label[['article_id','title', 'abstract_x', 'research_methods','sentence_with_cite']]\n",
    "dataset_2=cite_paper_label[['article_id','title', 'abstract_x', 'research_methods']].drop_duplicates(subset=['article_id'])\n",
    "\n"
   ]
  },
  {
   "cell_type": "code",
   "execution_count": null,
   "metadata": {
    "id": "LNvSboiiBToh"
   },
   "outputs": [],
   "source": [
    "df=pd.DataFrame(dataset.groupby('article_id')['sentence_with_cite'].apply(\n",
    "               lambda x: pd.Series(' '.join(x) )\n",
    "            ))\n",
    "dataset_2=pd.merge(dataset_2,df.reset_index().drop('level_1',1),on='article_id')"
   ]
  },
  {
   "cell_type": "code",
   "execution_count": null,
   "metadata": {
    "id": "Wee0bZlvBToh"
   },
   "outputs": [],
   "source": [
    "dataset_2['TEXT']=dataset_2['title']+dataset_2['abstract_x']+dataset_2['sentence_with_cite']\n",
    "dataset=dataset_2[['article_id','TEXT','research_methods']]"
   ]
  },
  {
   "cell_type": "code",
   "execution_count": null,
   "metadata": {
    "colab": {
     "base_uri": "https://localhost:8080/",
     "height": 310
    },
    "id": "g38FbQUHBToj",
    "outputId": "0eefddad-2cd4-4c4f-fff9-adec8de88f8a"
   },
   "outputs": [
    {
     "data": {
      "text/html": [
       "<div>\n",
       "<style scoped>\n",
       "    .dataframe tbody tr th:only-of-type {\n",
       "        vertical-align: middle;\n",
       "    }\n",
       "\n",
       "    .dataframe tbody tr th {\n",
       "        vertical-align: top;\n",
       "    }\n",
       "\n",
       "    .dataframe thead th {\n",
       "        text-align: right;\n",
       "    }\n",
       "</style>\n",
       "<table border=\"1\" class=\"dataframe\">\n",
       "  <thead>\n",
       "    <tr style=\"text-align: right;\">\n",
       "      <th></th>\n",
       "      <th>article_id</th>\n",
       "      <th>TEXT</th>\n",
       "      <th>research_methods</th>\n",
       "      <th>Case Study</th>\n",
       "      <th>Conceptual</th>\n",
       "      <th>Data Analytics</th>\n",
       "      <th>Ethnography</th>\n",
       "      <th>Field Study</th>\n",
       "      <th>Literature Review</th>\n",
       "      <th>Opinion</th>\n",
       "      <th>Other</th>\n",
       "      <th>Survey</th>\n",
       "    </tr>\n",
       "  </thead>\n",
       "  <tbody>\n",
       "    <tr>\n",
       "      <th>0</th>\n",
       "      <td>55</td>\n",
       "      <td>Information flows amongst executives: their im...</td>\n",
       "      <td>Conceptual, Case Study</td>\n",
       "      <td>1</td>\n",
       "      <td>1</td>\n",
       "      <td>0</td>\n",
       "      <td>0</td>\n",
       "      <td>0</td>\n",
       "      <td>0</td>\n",
       "      <td>0</td>\n",
       "      <td>0</td>\n",
       "      <td>0</td>\n",
       "    </tr>\n",
       "    <tr>\n",
       "      <th>1</th>\n",
       "      <td>893</td>\n",
       "      <td>Impact of Information Technology on Agricultur...</td>\n",
       "      <td>Data Analytics, Conceptual, Field Study</td>\n",
       "      <td>0</td>\n",
       "      <td>1</td>\n",
       "      <td>1</td>\n",
       "      <td>0</td>\n",
       "      <td>1</td>\n",
       "      <td>0</td>\n",
       "      <td>0</td>\n",
       "      <td>0</td>\n",
       "      <td>0</td>\n",
       "    </tr>\n",
       "    <tr>\n",
       "      <th>2</th>\n",
       "      <td>953</td>\n",
       "      <td>Predictive Analytics for Readmission of Patien...</td>\n",
       "      <td>Conceptual, Field Study</td>\n",
       "      <td>0</td>\n",
       "      <td>1</td>\n",
       "      <td>0</td>\n",
       "      <td>0</td>\n",
       "      <td>1</td>\n",
       "      <td>0</td>\n",
       "      <td>0</td>\n",
       "      <td>0</td>\n",
       "      <td>0</td>\n",
       "    </tr>\n",
       "    <tr>\n",
       "      <th>3</th>\n",
       "      <td>2516</td>\n",
       "      <td>Avoiding methodological overdose: a declaratio...</td>\n",
       "      <td>Opinion</td>\n",
       "      <td>0</td>\n",
       "      <td>0</td>\n",
       "      <td>0</td>\n",
       "      <td>0</td>\n",
       "      <td>0</td>\n",
       "      <td>0</td>\n",
       "      <td>1</td>\n",
       "      <td>0</td>\n",
       "      <td>0</td>\n",
       "    </tr>\n",
       "    <tr>\n",
       "      <th>4</th>\n",
       "      <td>2869</td>\n",
       "      <td>New games, new rules: big data and the changin...</td>\n",
       "      <td>Other</td>\n",
       "      <td>0</td>\n",
       "      <td>0</td>\n",
       "      <td>0</td>\n",
       "      <td>0</td>\n",
       "      <td>0</td>\n",
       "      <td>0</td>\n",
       "      <td>0</td>\n",
       "      <td>1</td>\n",
       "      <td>0</td>\n",
       "    </tr>\n",
       "  </tbody>\n",
       "</table>\n",
       "</div>"
      ],
      "text/plain": [
       "   article_id                                               TEXT  ... Other  Survey\n",
       "0          55  Information flows amongst executives: their im...  ...     0       0\n",
       "1         893  Impact of Information Technology on Agricultur...  ...     0       0\n",
       "2         953  Predictive Analytics for Readmission of Patien...  ...     0       0\n",
       "3        2516  Avoiding methodological overdose: a declaratio...  ...     0       0\n",
       "4        2869  New games, new rules: big data and the changin...  ...     1       0\n",
       "\n",
       "[5 rows x 12 columns]"
      ]
     },
     "execution_count": 27,
     "metadata": {
      "tags": []
     },
     "output_type": "execute_result"
    }
   ],
   "source": [
    "from sklearn.preprocessing import MultiLabelBinarizer\n",
    "mlb = MultiLabelBinarizer()\n",
    "df = pd.DataFrame(mlb.fit_transform(dataset['research_methods'].str.split(', ')))\n",
    "df.columns=mlb.classes_\n",
    "dataset=pd.concat([dataset,df],axis=1)\n",
    "\n",
    "dataset.head()"
   ]
  },
  {
   "cell_type": "code",
   "execution_count": null,
   "metadata": {
    "colab": {
     "base_uri": "https://localhost:8080/"
    },
    "id": "QlQ4wvbzBTot",
    "outputId": "9b006a9e-b0dc-41be-c981-dc069af20620"
   },
   "outputs": [
    {
     "name": "stdout",
     "output_type": "stream",
     "text": [
      "[nltk_data] Downloading package stopwords to /root/nltk_data...\n",
      "[nltk_data]   Package stopwords is already up-to-date!\n",
      "[nltk_data] Downloading package wordnet to /root/nltk_data...\n",
      "[nltk_data]   Package wordnet is already up-to-date!\n"
     ]
    }
   ],
   "source": [
    "from nltk.stem import WordNetLemmatizer\n",
    "import nltk\n",
    "nltk.download('stopwords')\n",
    "nltk.download('wordnet')\n",
    "from nltk.corpus import stopwords\n",
    "import re\n",
    "# Setup stopwords list & word (noun, adjective, and verb) lemmatizer\n",
    "stop_words = set(stopwords.words('english'))\n",
    "lemmatizer = WordNetLemmatizer()\n",
    "\n",
    "\n",
    "def clean_text(text):\n",
    "    \"\"\"Function to clean text using RegEx operations, removal of stopwords, and lemmatization.\"\"\"\n",
    "    text = re.sub(r'[^\\w\\s]', '', text, re.UNICODE)\n",
    "    text = text.lower()\n",
    "    text = [lemmatizer.lemmatize(token) for token in text.split(' ')]\n",
    "    text = [lemmatizer.lemmatize(token, 'v') for token in text]\n",
    "    text = [word for word in text if word not in stop_words]\n",
    "    text = ' '.join(text)\n",
    "    text = text.lstrip().rstrip()\n",
    "    text = re.sub(' +', ' ', text)\n",
    "    return text\n",
    "\n",
    "\n"
   ]
  },
  {
   "cell_type": "code",
   "execution_count": null,
   "metadata": {
    "colab": {
     "base_uri": "https://localhost:8080/",
     "height": 206
    },
    "id": "lOLsxn7XBTov",
    "outputId": "de15df04-1c29-4a78-9e16-144ae30f92e5"
   },
   "outputs": [
    {
     "data": {
      "text/html": [
       "<div>\n",
       "<style scoped>\n",
       "    .dataframe tbody tr th:only-of-type {\n",
       "        vertical-align: middle;\n",
       "    }\n",
       "\n",
       "    .dataframe tbody tr th {\n",
       "        vertical-align: top;\n",
       "    }\n",
       "\n",
       "    .dataframe thead th {\n",
       "        text-align: right;\n",
       "    }\n",
       "</style>\n",
       "<table border=\"1\" class=\"dataframe\">\n",
       "  <thead>\n",
       "    <tr style=\"text-align: right;\">\n",
       "      <th></th>\n",
       "      <th>article_id</th>\n",
       "      <th>TEXT</th>\n",
       "      <th>LABEL</th>\n",
       "    </tr>\n",
       "  </thead>\n",
       "  <tbody>\n",
       "    <tr>\n",
       "      <th>0</th>\n",
       "      <td>55</td>\n",
       "      <td>information flow amongst executive implication...</td>\n",
       "      <td>[1, 1, 0, 0, 0, 0, 0, 0, 0]</td>\n",
       "    </tr>\n",
       "    <tr>\n",
       "      <th>1</th>\n",
       "      <td>893</td>\n",
       "      <td>impact information technology agricultural com...</td>\n",
       "      <td>[0, 1, 1, 0, 1, 0, 0, 0, 0]</td>\n",
       "    </tr>\n",
       "    <tr>\n",
       "      <th>2</th>\n",
       "      <td>953</td>\n",
       "      <td>predictive analytics readmission patient conge...</td>\n",
       "      <td>[0, 1, 0, 0, 1, 0, 0, 0, 0]</td>\n",
       "    </tr>\n",
       "    <tr>\n",
       "      <th>3</th>\n",
       "      <td>2516</td>\n",
       "      <td>avoid methodological overdose declaration inde...</td>\n",
       "      <td>[0, 0, 0, 0, 0, 0, 1, 0, 0]</td>\n",
       "    </tr>\n",
       "    <tr>\n",
       "      <th>4</th>\n",
       "      <td>2869</td>\n",
       "      <td>new game new rule big data change context stra...</td>\n",
       "      <td>[0, 0, 0, 0, 0, 0, 0, 1, 0]</td>\n",
       "    </tr>\n",
       "  </tbody>\n",
       "</table>\n",
       "</div>"
      ],
      "text/plain": [
       "   article_id  ...                        LABEL\n",
       "0          55  ...  [1, 1, 0, 0, 0, 0, 0, 0, 0]\n",
       "1         893  ...  [0, 1, 1, 0, 1, 0, 0, 0, 0]\n",
       "2         953  ...  [0, 1, 0, 0, 1, 0, 0, 0, 0]\n",
       "3        2516  ...  [0, 0, 0, 0, 0, 0, 1, 0, 0]\n",
       "4        2869  ...  [0, 0, 0, 0, 0, 0, 0, 1, 0]\n",
       "\n",
       "[5 rows x 3 columns]"
      ]
     },
     "execution_count": 29,
     "metadata": {
      "tags": []
     },
     "output_type": "execute_result"
    }
   ],
   "source": [
    "dataset['LABEL']=dataset.iloc[:,3:].values.tolist()\n",
    "\n",
    "dataset.TEXT=dataset.TEXT.apply(clean_text)\n",
    "dataset_2=dataset[['article_id','TEXT','LABEL']]\n",
    "dataset_2.head()"
   ]
  },
  {
   "cell_type": "code",
   "execution_count": null,
   "metadata": {
    "colab": {
     "base_uri": "https://localhost:8080/",
     "height": 243
    },
    "id": "msh_uRo4BTo7",
    "outputId": "baf1749d-b359-4533-c75f-a9a5f31e9b45"
   },
   "outputs": [
    {
     "name": "stdout",
     "output_type": "stream",
     "text": [
      "Training Set Shape : (25, 3)\n",
      "Validation Set Shape : (3, 3) (4, 3)\n"
     ]
    },
    {
     "data": {
      "text/html": [
       "<div>\n",
       "<style scoped>\n",
       "    .dataframe tbody tr th:only-of-type {\n",
       "        vertical-align: middle;\n",
       "    }\n",
       "\n",
       "    .dataframe tbody tr th {\n",
       "        vertical-align: top;\n",
       "    }\n",
       "\n",
       "    .dataframe thead th {\n",
       "        text-align: right;\n",
       "    }\n",
       "</style>\n",
       "<table border=\"1\" class=\"dataframe\">\n",
       "  <thead>\n",
       "    <tr style=\"text-align: right;\">\n",
       "      <th></th>\n",
       "      <th>article_id</th>\n",
       "      <th>TEXT</th>\n",
       "      <th>LABEL</th>\n",
       "    </tr>\n",
       "  </thead>\n",
       "  <tbody>\n",
       "    <tr>\n",
       "      <th>0</th>\n",
       "      <td>10814</td>\n",
       "      <td>develop integration architecture process porta...</td>\n",
       "      <td>[1, 1, 0, 0, 0, 0, 0, 0, 0]</td>\n",
       "    </tr>\n",
       "    <tr>\n",
       "      <th>1</th>\n",
       "      <td>8475</td>\n",
       "      <td>empirical study information technology outsour...</td>\n",
       "      <td>[0, 0, 0, 0, 1, 0, 0, 0, 1]</td>\n",
       "    </tr>\n",
       "    <tr>\n",
       "      <th>2</th>\n",
       "      <td>6825</td>\n",
       "      <td>editorial note write editorial first issue set...</td>\n",
       "      <td>[0, 0, 0, 0, 0, 0, 0, 1, 0]</td>\n",
       "    </tr>\n",
       "    <tr>\n",
       "      <th>3</th>\n",
       "      <td>11591</td>\n",
       "      <td>assess quality institutional ds effectively as...</td>\n",
       "      <td>[1, 0, 0, 0, 0, 0, 0, 0, 0]</td>\n",
       "    </tr>\n",
       "    <tr>\n",
       "      <th>4</th>\n",
       "      <td>8926</td>\n",
       "      <td>make largescale information resource serve com...</td>\n",
       "      <td>[0, 0, 0, 0, 0, 0, 1, 0, 0]</td>\n",
       "    </tr>\n",
       "  </tbody>\n",
       "</table>\n",
       "</div>"
      ],
      "text/plain": [
       "   article_id  ...                        LABEL\n",
       "0       10814  ...  [1, 1, 0, 0, 0, 0, 0, 0, 0]\n",
       "1        8475  ...  [0, 0, 0, 0, 1, 0, 0, 0, 1]\n",
       "2        6825  ...  [0, 0, 0, 0, 0, 0, 0, 1, 0]\n",
       "3       11591  ...  [1, 0, 0, 0, 0, 0, 0, 0, 0]\n",
       "4        8926  ...  [0, 0, 0, 0, 0, 0, 1, 0, 0]\n",
       "\n",
       "[5 rows x 3 columns]"
      ]
     },
     "execution_count": 30,
     "metadata": {
      "tags": []
     },
     "output_type": "execute_result"
    }
   ],
   "source": [
    "from sklearn.model_selection import train_test_split\n",
    "train, val = train_test_split(dataset_2, test_size=0.2, random_state=35)\n",
    "val, test = train_test_split(val, test_size=0.5, random_state=RANDOM_SEED,shuffle=False)\n",
    "train.reset_index(drop=True, inplace=True)\n",
    "val.reset_index(drop=True, inplace=True)\n",
    "test.reset_index(drop=True, inplace=True)\n",
    "print(\"Training Set Shape :\", train.shape)\n",
    "print(\"Validation Set Shape :\", val.shape,test.shape)\n",
    "train.head()"
   ]
  },
  {
   "cell_type": "code",
   "execution_count": null,
   "metadata": {
    "id": "Mdepod7CBTpD"
   },
   "outputs": [],
   "source": [
    "PRE_TRAINED_MODEL_NAME = 'bert-base-uncased'\n",
    "tokenizer = BertTokenizer.from_pretrained(PRE_TRAINED_MODEL_NAME, truncation=True, do_lower_case=True)\n",
    "MAX_LEN=512\n",
    "num_labels=dataset_2['LABEL'].apply(len).max()"
   ]
  },
  {
   "cell_type": "code",
   "execution_count": null,
   "metadata": {
    "id": "GXPqRrWF2Y5m"
   },
   "outputs": [],
   "source": []
  },
  {
   "cell_type": "code",
   "execution_count": null,
   "metadata": {
    "colab": {
     "base_uri": "https://localhost:8080/"
    },
    "id": "7b8cx4Ts2OMp",
    "outputId": "6bf6a4fa-2c55-47bb-d9ac-88a25c0d518a"
   },
   "outputs": [
    {
     "data": {
      "text/plain": [
       "tensor([ 5.,  1., 14., 30.,  2., 30.,  6.,  2.,  2.])"
      ]
     },
     "execution_count": 137,
     "metadata": {
      "tags": []
     },
     "output_type": "execute_result"
    }
   ],
   "source": [
    "positive_counts=[]\n",
    "from collections import Counter\n",
    "for col in dataset.columns[3:-1]:\n",
    "  positive_counts.append(dict(Counter(dataset[col]))[1])\n",
    "\n",
    "\n",
    "def calculate_pos_weights(class_counts,data):\n",
    "    pos_weights = np.ones_like(class_counts)\n",
    "    neg_counts = [len(data)-pos_count for pos_count in class_counts]\n",
    "    for cdx, (pos_count, neg_count) in enumerate(zip(class_counts,  neg_counts)):\n",
    "        pos_weights[cdx] = neg_count / (pos_count + 1e-5)\n",
    "\n",
    "    return torch.as_tensor(pos_weights, dtype=torch.float)\n",
    "\n",
    "\n",
    "pos_weight=calculate_pos_weights(positive_counts,dataset)\n",
    "pos_weight"
   ]
  },
  {
   "cell_type": "code",
   "execution_count": null,
   "metadata": {
    "id": "UfNZAW_UBTpE"
   },
   "outputs": [],
   "source": [
    "##Number of tokens in each article , is plotted in a distribution plot"
   ]
  },
  {
   "cell_type": "code",
   "execution_count": null,
   "metadata": {
    "colab": {
     "base_uri": "https://localhost:8080/",
     "height": 594
    },
    "id": "E1B07GiyBTpM",
    "outputId": "579c36cb-f9cc-4395-85c0-b3f0774e6408"
   },
   "outputs": [
    {
     "name": "stderr",
     "output_type": "stream",
     "text": [
      "Token indices sequence length is longer than the specified maximum sequence length for this model (8640 > 512). Running this sequence through the model will result in indexing errors\n",
      "/usr/local/lib/python3.6/dist-packages/seaborn/distributions.py:2551: FutureWarning: `distplot` is a deprecated function and will be removed in a future version. Please adapt your code to use either `displot` (a figure-level function with similar flexibility) or `histplot` (an axes-level function for histograms).\n",
      "  warnings.warn(msg, FutureWarning)\n"
     ]
    },
    {
     "data": {
      "image/png": "[encoded data removed]",
      "text/plain": [
       "<Figure size 864x576 with 1 Axes>"
      ]
     },
     "metadata": {
      "image/png": {
       "height": 502,
       "width": 740
      },
      "tags": []
     },
     "output_type": "display_data"
    }
   ],
   "source": [
    "token_lens = []\n",
    "\n",
    "for txt in train.TEXT:\n",
    "    tokens = tokenizer.encode(txt)\n",
    "    token_lens.append(len(tokens))\n",
    "    \n",
    "sns.distplot(token_lens)\n",
    "plt.xlim([0, 50000]);\n",
    "plt.xlabel('Token count');"
   ]
  },
  {
   "cell_type": "markdown",
   "metadata": {
    "id": "QGy4byUyyqyu"
   },
   "source": [
    "The sentences where split at 100 words and a overlapping window of 150 words was taken between subsequent split sentences. This overlap helps in connecting between the split sentences"
   ]
  },
  {
   "cell_type": "code",
   "execution_count": null,
   "metadata": {
    "id": "FroVvj2xBTpO"
   },
   "outputs": [],
   "source": [
    "def get_split(text1):\n",
    "  l_total = []\n",
    "  l_parcial = []\n",
    "  if len(text1.split())//100 >0:\n",
    "    n = len(text1.split())//100\n",
    "  else: \n",
    "    n = 1\n",
    "  for w in range(n):\n",
    "    if w == 0:\n",
    "      l_parcial = text1.split()[:150]\n",
    "      l_total.append(\" \".join(l_parcial))\n",
    "    else:\n",
    "      l_parcial = text1.split()[w*100:w*100 + 150]\n",
    "      l_total.append(\" \".join(l_parcial))\n",
    "  return l_total"
   ]
  },
  {
   "cell_type": "code",
   "execution_count": null,
   "metadata": {
    "colab": {
     "base_uri": "https://localhost:8080/",
     "height": 316
    },
    "id": "UdYQrqZGBTpO",
    "outputId": "c25cabdf-28df-4db6-b741-e84341e40cb9"
   },
   "outputs": [
    {
     "name": "stderr",
     "output_type": "stream",
     "text": [
      "/usr/local/lib/python3.6/dist-packages/ipykernel_launcher.py:3: SettingWithCopyWarning: \n",
      "A value is trying to be set on a copy of a slice from a DataFrame.\n",
      "Try using .loc[row_indexer,col_indexer] = value instead\n",
      "\n",
      "See the caveats in the documentation: https://pandas.pydata.org/pandas-docs/stable/user_guide/indexing.html#returning-a-view-versus-a-copy\n",
      "  This is separate from the ipykernel package so we can avoid doing imports until\n"
     ]
    },
    {
     "data": {
      "text/html": [
       "<div>\n",
       "<style scoped>\n",
       "    .dataframe tbody tr th:only-of-type {\n",
       "        vertical-align: middle;\n",
       "    }\n",
       "\n",
       "    .dataframe tbody tr th {\n",
       "        vertical-align: top;\n",
       "    }\n",
       "\n",
       "    .dataframe thead th {\n",
       "        text-align: right;\n",
       "    }\n",
       "</style>\n",
       "<table border=\"1\" class=\"dataframe\">\n",
       "  <thead>\n",
       "    <tr style=\"text-align: right;\">\n",
       "      <th></th>\n",
       "      <th>article_id</th>\n",
       "      <th>TEXT</th>\n",
       "      <th>LABEL</th>\n",
       "    </tr>\n",
       "  </thead>\n",
       "  <tbody>\n",
       "    <tr>\n",
       "      <th>0</th>\n",
       "      <td>10814</td>\n",
       "      <td>develop integration architecture process porta...</td>\n",
       "      <td>[1, 1, 0, 0, 0, 0, 0, 0, 0]</td>\n",
       "    </tr>\n",
       "    <tr>\n",
       "      <th>1</th>\n",
       "      <td>10814</td>\n",
       "      <td>literature practice adequately address interor...</td>\n",
       "      <td>[1, 1, 0, 0, 0, 0, 0, 0, 0]</td>\n",
       "    </tr>\n",
       "    <tr>\n",
       "      <th>2</th>\n",
       "      <td>10814</td>\n",
       "      <td>architecture (menasce &amp; almeida, 2000) j j e-e...</td>\n",
       "      <td>[1, 1, 0, 0, 0, 0, 0, 0, 0]</td>\n",
       "    </tr>\n",
       "    <tr>\n",
       "      <th>3</th>\n",
       "      <td>10814</td>\n",
       "      <td>j j ovum enterprise portal (ovum, 2000) j j j ...</td>\n",
       "      <td>[1, 1, 0, 0, 0, 0, 0, 0, 0]</td>\n",
       "    </tr>\n",
       "    <tr>\n",
       "      <th>4</th>\n",
       "      <td>10814</td>\n",
       "      <td>second business intelligencewhen link data war...</td>\n",
       "      <td>[1, 1, 0, 0, 0, 0, 0, 0, 0]</td>\n",
       "    </tr>\n",
       "  </tbody>\n",
       "</table>\n",
       "</div>"
      ],
      "text/plain": [
       "   article_id  ...                        LABEL\n",
       "0       10814  ...  [1, 1, 0, 0, 0, 0, 0, 0, 0]\n",
       "1       10814  ...  [1, 1, 0, 0, 0, 0, 0, 0, 0]\n",
       "2       10814  ...  [1, 1, 0, 0, 0, 0, 0, 0, 0]\n",
       "3       10814  ...  [1, 1, 0, 0, 0, 0, 0, 0, 0]\n",
       "4       10814  ...  [1, 1, 0, 0, 0, 0, 0, 0, 0]\n",
       "\n",
       "[5 rows x 3 columns]"
      ]
     },
     "execution_count": 35,
     "metadata": {
      "tags": []
     },
     "output_type": "execute_result"
    }
   ],
   "source": [
    "train_2=train.copy()\n",
    "\n",
    "train['text_split'] = train['TEXT'].apply(get_split)\n",
    "train=train.set_index(['article_id'])['text_split'].apply(\n",
    "               lambda x: pd.Series([' '.join(x[i:i+1]) for i in range(0, len(x), 1)])\n",
    "            ).stack().reset_index().drop('level_1',1).rename(columns={0:'TEXT'})\n",
    "train=pd.merge(train,train_2[['article_id','LABEL']],on='article_id')\n",
    "train.head()"
   ]
  },
  {
   "cell_type": "code",
   "execution_count": null,
   "metadata": {
    "colab": {
     "base_uri": "https://localhost:8080/",
     "height": 563
    },
    "id": "eNDlvObsBTpQ",
    "outputId": "55f6d3ab-e6a6-48c8-9dab-d8a587239b33"
   },
   "outputs": [
    {
     "name": "stderr",
     "output_type": "stream",
     "text": [
      "/usr/local/lib/python3.6/dist-packages/seaborn/distributions.py:2551: FutureWarning: `distplot` is a deprecated function and will be removed in a future version. Please adapt your code to use either `displot` (a figure-level function with similar flexibility) or `histplot` (an axes-level function for histograms).\n",
      "  warnings.warn(msg, FutureWarning)\n"
     ]
    },
    {
     "data": {
      "image/png": "[encoded data removed]",
      "text/plain": [
       "<Figure size 864x576 with 1 Axes>"
      ]
     },
     "metadata": {
      "image/png": {
       "height": 489,
       "width": 766
      },
      "tags": []
     },
     "output_type": "display_data"
    }
   ],
   "source": [
    "token_lens = []\n",
    "\n",
    "for txt in train.TEXT:\n",
    "    tokens = tokenizer.encode(txt)\n",
    "    token_lens.append(len(tokens))\n",
    "    \n",
    "sns.distplot(token_lens)\n",
    "plt.xlim([0,1000]);\n",
    "plt.xlabel('Token count');"
   ]
  },
  {
   "cell_type": "code",
   "execution_count": null,
   "metadata": {
    "colab": {
     "base_uri": "https://localhost:8080/",
     "height": 112
    },
    "id": "Ns3w9dBRBTpR",
    "outputId": "0e8ce920-23b5-4fae-99fa-df34a80837da"
   },
   "outputs": [
    {
     "data": {
      "text/html": [
       "<div>\n",
       "<style scoped>\n",
       "    .dataframe tbody tr th:only-of-type {\n",
       "        vertical-align: middle;\n",
       "    }\n",
       "\n",
       "    .dataframe tbody tr th {\n",
       "        vertical-align: top;\n",
       "    }\n",
       "\n",
       "    .dataframe thead th {\n",
       "        text-align: right;\n",
       "    }\n",
       "</style>\n",
       "<table border=\"1\" class=\"dataframe\">\n",
       "  <thead>\n",
       "    <tr style=\"text-align: right;\">\n",
       "      <th></th>\n",
       "      <th>article_id</th>\n",
       "      <th>TEXT</th>\n",
       "      <th>LABEL</th>\n",
       "    </tr>\n",
       "  </thead>\n",
       "  <tbody>\n",
       "    <tr>\n",
       "      <th>0</th>\n",
       "      <td>8747</td>\n",
       "      <td>towards enhancement edemocracy identify notion...</td>\n",
       "      <td>[1, 1, 0, 0, 0, 0, 0, 0, 0]</td>\n",
       "    </tr>\n",
       "    <tr>\n",
       "      <th>1</th>\n",
       "      <td>8747</td>\n",
       "      <td>add new dimension exist theory hesitant evolut...</td>\n",
       "      <td>[1, 1, 0, 0, 0, 0, 0, 0, 0]</td>\n",
       "    </tr>\n",
       "  </tbody>\n",
       "</table>\n",
       "</div>"
      ],
      "text/plain": [
       "   article_id  ...                        LABEL\n",
       "0        8747  ...  [1, 1, 0, 0, 0, 0, 0, 0, 0]\n",
       "1        8747  ...  [1, 1, 0, 0, 0, 0, 0, 0, 0]\n",
       "\n",
       "[2 rows x 3 columns]"
      ]
     },
     "execution_count": 37,
     "metadata": {
      "tags": []
     },
     "output_type": "execute_result"
    }
   ],
   "source": [
    "val_2=val.copy()\n",
    "\n",
    "val['text_split'] = val['TEXT'].apply(get_split)\n",
    "val=val.set_index(['article_id'])['text_split'].apply(\n",
    "               lambda x: pd.Series([' '.join(x[i:i+1]) for i in range(0, len(x), 1)])\n",
    "            ).stack().reset_index().drop('level_1',1).rename(columns={0:'TEXT'})\n",
    "\n",
    "val=pd.merge(val,val_2[['article_id','LABEL']],on='article_id')\n",
    "\n",
    "val.head(2)"
   ]
  },
  {
   "cell_type": "code",
   "execution_count": null,
   "metadata": {
    "colab": {
     "base_uri": "https://localhost:8080/",
     "height": 112
    },
    "id": "GcOR1Kt3BTpS",
    "outputId": "41132be9-97fc-4a99-b894-14726e9023b7"
   },
   "outputs": [
    {
     "data": {
      "text/html": [
       "<div>\n",
       "<style scoped>\n",
       "    .dataframe tbody tr th:only-of-type {\n",
       "        vertical-align: middle;\n",
       "    }\n",
       "\n",
       "    .dataframe tbody tr th {\n",
       "        vertical-align: top;\n",
       "    }\n",
       "\n",
       "    .dataframe thead th {\n",
       "        text-align: right;\n",
       "    }\n",
       "</style>\n",
       "<table border=\"1\" class=\"dataframe\">\n",
       "  <thead>\n",
       "    <tr style=\"text-align: right;\">\n",
       "      <th></th>\n",
       "      <th>article_id</th>\n",
       "      <th>TEXT</th>\n",
       "      <th>LABEL</th>\n",
       "    </tr>\n",
       "  </thead>\n",
       "  <tbody>\n",
       "    <tr>\n",
       "      <th>0</th>\n",
       "      <td>11547</td>\n",
       "      <td>editorial note performance journal 2006 review...</td>\n",
       "      <td>[0, 0, 0, 0, 0, 0, 0, 1, 0]</td>\n",
       "    </tr>\n",
       "    <tr>\n",
       "      <th>1</th>\n",
       "      <td>11547</td>\n",
       "      <td>last year number revision ha go significantly ...</td>\n",
       "      <td>[0, 0, 0, 0, 0, 0, 0, 1, 0]</td>\n",
       "    </tr>\n",
       "  </tbody>\n",
       "</table>\n",
       "</div>"
      ],
      "text/plain": [
       "   article_id  ...                        LABEL\n",
       "0       11547  ...  [0, 0, 0, 0, 0, 0, 0, 1, 0]\n",
       "1       11547  ...  [0, 0, 0, 0, 0, 0, 0, 1, 0]\n",
       "\n",
       "[2 rows x 3 columns]"
      ]
     },
     "execution_count": 38,
     "metadata": {
      "tags": []
     },
     "output_type": "execute_result"
    }
   ],
   "source": [
    "test_2=test.copy()\n",
    "test['text_split'] = test['TEXT'].apply(get_split)\n",
    "test=test.set_index(['article_id'])['text_split'].apply(\n",
    "               lambda x: pd.Series([' '.join(x[i:i+1]) for i in range(0, len(x), 1)])\n",
    "            ).stack().reset_index().drop('level_1',1).rename(columns={0:'TEXT'})\n",
    "\n",
    "\n",
    "test=pd.merge(test,test_2[['article_id','LABEL']],on='article_id')\n",
    "\n",
    "\n",
    "test.head(2)"
   ]
  },
  {
   "cell_type": "code",
   "execution_count": null,
   "metadata": {
    "id": "WlnW-UlXBTpT"
   },
   "outputs": [],
   "source": [
    "class Dataset(Dataset):\n",
    "\n",
    "  def __init__(self, article,reviews, targets, tokenizer, max_len):\n",
    "    self.article=article\n",
    "    self.reviews = reviews\n",
    "    self.targets = targets\n",
    "    self.tokenizer = tokenizer\n",
    "    self.max_len = max_len\n",
    "  \n",
    "  def __len__(self):\n",
    "    return len(self.reviews)\n",
    "  \n",
    "  def __getitem__(self, item):\n",
    "    review = str(self.reviews[item])\n",
    "    review = \" \".join(review.split())\n",
    "    article=self.article[item]\n",
    "    target = self.targets[item]\n",
    "\n",
    "    encoding = self.tokenizer.encode_plus(\n",
    "      review,\n",
    "      add_special_tokens=True,\n",
    "      max_length=self.max_len,\n",
    "      pad_to_max_length=True,\n",
    "      return_attention_mask=True,\n",
    "    return_token_type_ids=True,\n",
    "    truncation=True\n",
    "    )\n",
    "\n",
    "    return {'article_id':article,\n",
    "      'review_text': review,\n",
    "      'input_ids':  torch.tensor(encoding['input_ids'], dtype=torch.long),\n",
    "      'attention_mask':  torch.tensor(encoding['attention_mask'], dtype=torch.long),\n",
    "        'token_type_ids': torch.tensor(encoding[\"token_type_ids\"], dtype=torch.long),\n",
    "      'targets': torch.tensor(target, dtype=torch.float)\n",
    "    }"
   ]
  },
  {
   "cell_type": "code",
   "execution_count": null,
   "metadata": {
    "colab": {
     "base_uri": "https://localhost:8080/"
    },
    "id": "Qqemdb1JBTpf",
    "outputId": "88ebff0b-341c-4351-c54d-651ba3f23f90"
   },
   "outputs": [
    {
     "data": {
      "text/plain": [
       "((1145, 3), (169, 3), (178, 3))"
      ]
     },
     "execution_count": 40,
     "metadata": {
      "tags": []
     },
     "output_type": "execute_result"
    }
   ],
   "source": [
    "train.shape, val.shape, test.shape"
   ]
  },
  {
   "cell_type": "code",
   "execution_count": null,
   "metadata": {
    "colab": {
     "base_uri": "https://localhost:8080/",
     "height": 424
    },
    "id": "z-PTKA4ftwME",
    "outputId": "6db7acc6-1a83-4b7b-dc7e-98ae5009432b"
   },
   "outputs": [
    {
     "data": {
      "text/html": [
       "<div>\n",
       "<style scoped>\n",
       "    .dataframe tbody tr th:only-of-type {\n",
       "        vertical-align: middle;\n",
       "    }\n",
       "\n",
       "    .dataframe tbody tr th {\n",
       "        vertical-align: top;\n",
       "    }\n",
       "\n",
       "    .dataframe thead th {\n",
       "        text-align: right;\n",
       "    }\n",
       "</style>\n",
       "<table border=\"1\" class=\"dataframe\">\n",
       "  <thead>\n",
       "    <tr style=\"text-align: right;\">\n",
       "      <th></th>\n",
       "      <th>article_id</th>\n",
       "      <th>TEXT</th>\n",
       "      <th>LABEL</th>\n",
       "    </tr>\n",
       "  </thead>\n",
       "  <tbody>\n",
       "    <tr>\n",
       "      <th>0</th>\n",
       "      <td>10814</td>\n",
       "      <td>develop integration architecture process porta...</td>\n",
       "      <td>[1, 1, 0, 0, 0, 0, 0, 0, 0]</td>\n",
       "    </tr>\n",
       "    <tr>\n",
       "      <th>1</th>\n",
       "      <td>10814</td>\n",
       "      <td>literature practice adequately address interor...</td>\n",
       "      <td>[1, 1, 0, 0, 0, 0, 0, 0, 0]</td>\n",
       "    </tr>\n",
       "    <tr>\n",
       "      <th>2</th>\n",
       "      <td>10814</td>\n",
       "      <td>architecture (menasce &amp; almeida, 2000) j j e-e...</td>\n",
       "      <td>[1, 1, 0, 0, 0, 0, 0, 0, 0]</td>\n",
       "    </tr>\n",
       "    <tr>\n",
       "      <th>3</th>\n",
       "      <td>10814</td>\n",
       "      <td>j j ovum enterprise portal (ovum, 2000) j j j ...</td>\n",
       "      <td>[1, 1, 0, 0, 0, 0, 0, 0, 0]</td>\n",
       "    </tr>\n",
       "    <tr>\n",
       "      <th>4</th>\n",
       "      <td>10814</td>\n",
       "      <td>second business intelligencewhen link data war...</td>\n",
       "      <td>[1, 1, 0, 0, 0, 0, 0, 0, 0]</td>\n",
       "    </tr>\n",
       "    <tr>\n",
       "      <th>...</th>\n",
       "      <td>...</td>\n",
       "      <td>...</td>\n",
       "      <td>...</td>\n",
       "    </tr>\n",
       "    <tr>\n",
       "      <th>1140</th>\n",
       "      <td>8465</td>\n",
       "      <td>update intellectual property regime ''maximize...</td>\n",
       "      <td>[0, 0, 0, 0, 0, 0, 1, 0, 0]</td>\n",
       "    </tr>\n",
       "    <tr>\n",
       "      <th>1141</th>\n",
       "      <td>11544</td>\n",
       "      <td>editorial note synergistic relationship inform...</td>\n",
       "      <td>[0, 0, 0, 0, 0, 0, 0, 1, 0]</td>\n",
       "    </tr>\n",
       "    <tr>\n",
       "      <th>1142</th>\n",
       "      <td>11544</td>\n",
       "      <td>system society inform society community provid...</td>\n",
       "      <td>[0, 0, 0, 0, 0, 0, 0, 1, 0]</td>\n",
       "    </tr>\n",
       "    <tr>\n",
       "      <th>1143</th>\n",
       "      <td>11544</td>\n",
       "      <td>pages. second, isr also commit publish annual ...</td>\n",
       "      <td>[0, 0, 0, 0, 0, 0, 0, 1, 0]</td>\n",
       "    </tr>\n",
       "    <tr>\n",
       "      <th>1144</th>\n",
       "      <td>11544</td>\n",
       "      <td>agarwal, point society stand lose status socie...</td>\n",
       "      <td>[0, 0, 0, 0, 0, 0, 0, 1, 0]</td>\n",
       "    </tr>\n",
       "  </tbody>\n",
       "</table>\n",
       "<p>1145 rows × 3 columns</p>\n",
       "</div>"
      ],
      "text/plain": [
       "      article_id  ...                        LABEL\n",
       "0          10814  ...  [1, 1, 0, 0, 0, 0, 0, 0, 0]\n",
       "1          10814  ...  [1, 1, 0, 0, 0, 0, 0, 0, 0]\n",
       "2          10814  ...  [1, 1, 0, 0, 0, 0, 0, 0, 0]\n",
       "3          10814  ...  [1, 1, 0, 0, 0, 0, 0, 0, 0]\n",
       "4          10814  ...  [1, 1, 0, 0, 0, 0, 0, 0, 0]\n",
       "...          ...  ...                          ...\n",
       "1140        8465  ...  [0, 0, 0, 0, 0, 0, 1, 0, 0]\n",
       "1141       11544  ...  [0, 0, 0, 0, 0, 0, 0, 1, 0]\n",
       "1142       11544  ...  [0, 0, 0, 0, 0, 0, 0, 1, 0]\n",
       "1143       11544  ...  [0, 0, 0, 0, 0, 0, 0, 1, 0]\n",
       "1144       11544  ...  [0, 0, 0, 0, 0, 0, 0, 1, 0]\n",
       "\n",
       "[1145 rows x 3 columns]"
      ]
     },
     "execution_count": 41,
     "metadata": {
      "tags": []
     },
     "output_type": "execute_result"
    }
   ],
   "source": [
    "train"
   ]
  },
  {
   "cell_type": "code",
   "execution_count": null,
   "metadata": {
    "id": "clJgZXLXBTpg"
   },
   "outputs": [],
   "source": [
    "def create_data_loader(df, tokenizer, max_len, batch_size):\n",
    "  ds = Dataset(\n",
    "    article=df.article_id.to_numpy(),\n",
    "    reviews=df.TEXT.to_numpy(),\n",
    "    targets=df.LABEL.to_numpy(),\n",
    "    tokenizer=tokenizer,\n",
    "    max_len=max_len\n",
    "  )\n",
    "\n",
    "  return DataLoader(\n",
    "    ds,\n",
    "    batch_size=batch_size,\n",
    "    num_workers=0,\n",
    "  )"
   ]
  },
  {
   "cell_type": "code",
   "execution_count": null,
   "metadata": {
    "id": "D9XdtVsuBTph"
   },
   "outputs": [],
   "source": [
    "BATCH_SIZE = 1\n",
    "MAX_LEN=512\n",
    "train_data_loader = create_data_loader(train, tokenizer, MAX_LEN, BATCH_SIZE)\n",
    "val_data_loader = create_data_loader(val, tokenizer, MAX_LEN, BATCH_SIZE)\n",
    "test_data_loader = create_data_loader(test, tokenizer, MAX_LEN, BATCH_SIZE)"
   ]
  },
  {
   "cell_type": "code",
   "execution_count": null,
   "metadata": {
    "id": "BHCwIr0vkEUx"
   },
   "outputs": [],
   "source": [
    "class FineTunedBert(nn.Module):\n",
    "    \"\"\"\n",
    "    Finetuning model that utilizes BERT tokenizer, pretrained BERT embedding, pretrained BERT\n",
    "    encoders, an optional recurrent neural network  choice of LSTM, dropout, and finally a dense\n",
    "    layer for classification.\n",
    "    @param (str) pretrained_model_name: name of the pretrained BERT model for tokenizing input\n",
    "           sequences, extracting vector representations for each token, [...]\n",
    "    @param (int) num_pretrained_bert_layers: number of BERT Encoder layers to be utilized\n",
    "    @param (int) max_tokenization_length: maximum number of positional embeddings, or the sequence\n",
    "           length of an example that will be fed to BERT model (default: 512)\n",
    "    @param (int) num_classes: number of classes to distinct between for classification; specify\n",
    "           2 for binary classification (default: 1)\n",
    "    @param (bool) top_down: whether to assign parameters (weights and biases) in order or\n",
    "           backwards (default: True)\n",
    "    @param (int) num_recurrent_layers: number of LSTM layers to utilize (default: 1)\n",
    "    @param (bool) use_bidirectional: whether to use a bidirectional LSTM or not (default: False)\n",
    "    @param (int) hidden_size: number of recurrent units in each LSTM cell (default: 128)\n",
    "    @param (bool) reinitialize_pooler_parameters: whether to use the pretrained pooler parameters\n",
    "           or initialize weights as ones and biases zeros and train for scratch (default: False)\n",
    "    @param (float) dropout_rate: possibility of each neuron to be discarded (default: 0.10)\n",
    "    @param (bool) aggregate_on_cls_token: whether to pool on only the hidden states of the [CLS]\n",
    "           token for classification or on the hidden states of all (512) tokens (default: True)\n",
    "    @param (bool) concatenate_hidden_states: whether to concatenate all the available hidden states\n",
    "           outputted by the embedding and encoder layers (K+1) or only use the latest hidden state\n",
    "           (default: False)\n",
    "    @param (bool) use_gpu: whether to utilize GPU (CUDA) or not (default: False)\n",
    "    \"\"\"\n",
    "    def __init__(self, pretrained_model_name, num_pretrained_bert_layers, max_tokenization_length,\n",
    "                 num_classes=1, top_down=True, num_recurrent_layers=1, use_bidirectional=False,\n",
    "                 hidden_size=128, reinitialize_pooler_parameters=False, dropout_rate=0.10,\n",
    "                 aggregate_on_cls_token=True, concatenate_hidden_states=False, use_gpu=False):\n",
    "        super(FineTunedBert, self).__init__()\n",
    "        self.num_recurrent_layers = num_recurrent_layers\n",
    "        self.use_bidirectional = use_bidirectional\n",
    "        self.hidden_size = hidden_size\n",
    "        self.aggregate_on_cls_token = aggregate_on_cls_token\n",
    "        self.concatenate_hidden_states = concatenate_hidden_states\n",
    "        self.use_gpu = use_gpu\n",
    "\n",
    "        # Configure tokenizer\n",
    "        self.tokenizer = BertTokenizer.from_pretrained(pretrained_model_name)\n",
    "        self.tokenizer.max_len = max_tokenization_length\n",
    "\n",
    "        # Get global BERT config\n",
    "        self.config = BertConfig.from_pretrained(pretrained_model_name)\n",
    "        # Extract all parameters (weights and bias matrices) for the 12 layers\n",
    "        all_states_dict = BertModel.from_pretrained(pretrained_model_name,\n",
    "                                                    config=self.config).state_dict()\n",
    "\n",
    "        # Get customized BERT config\n",
    "        self.config.max_position_embeddings = max_tokenization_length\n",
    "        self.config.num_hidden_layers = num_pretrained_bert_layers\n",
    "        self.config.output_hidden_states = True\n",
    "        self.config.output_attentions = True\n",
    "\n",
    "        # Get pretrained BERT model & all its learnable parameters\n",
    "        self.bert = BertModel.from_pretrained(pretrained_model_name,\n",
    "                                              config=self.config)\n",
    "        current_states_dict = self.bert.state_dict()\n",
    "\n",
    "        # Assign matching parameters (weights and biases of all kinds of layers)\n",
    "        # i)  Top-Down Approach: 1st layer takes weights of 1st pretrained BERT layer\n",
    "        if top_down:\n",
    "            for param in current_states_dict.keys():\n",
    "                if 'pooler' not in param or not reinitialize_pooler_parameters:\n",
    "                    current_states_dict[param] = all_states_dict[param]\n",
    "                else:\n",
    "                    if 'weight' in param:\n",
    "                        current_states_dict[param] = torch.ones(self.config.hidden_size,\n",
    "                                                                self.config.hidden_size)\n",
    "                    elif 'bias' in param:\n",
    "                        current_states_dict[param] = torch.zeros(self.config.hidden_size)\n",
    "\n",
    "        # ii) Bottom-Up Approach: 1st layer takes weights of 12th (last) pretrained BERT layer\n",
    "        else:\n",
    "            align = 5 + ((12 - num_pretrained_bert_layers) * 16)\n",
    "            for index, param in enumerate(current_states_dict.keys()):\n",
    "                # There are 5 initial (shared) parameters from embeddings in each BERT model\n",
    "                if index < 5 and 'embeddings' in param:\n",
    "                    current_states_dict[param] = all_states_dict[param]\n",
    "                # There are 16 parameters for each of the K pretrained BERT layers (16 x K params)\n",
    "                elif index >= 5 and 'pooler' not in param:\n",
    "                    current_states_dict[param] = list(all_states_dict.values())[align:][index-5]\n",
    "                # There are 2 parameters for the pooling layer at the end in each BERT model\n",
    "                else:\n",
    "                    if not reinitialize_pooler_parameters:\n",
    "                        current_states_dict[param] = all_states_dict[param]\n",
    "                    else:\n",
    "                        if 'weight' in param:\n",
    "                            current_states_dict[param] = torch.ones(self.config.hidden_size,\n",
    "                                                                    self.config.hidden_size)\n",
    "                        elif 'bias' in param:\n",
    "                            current_states_dict[param] = torch.zeros(self.config.hidden_size)\n",
    "\n",
    "        del all_states_dict\n",
    "        # Update parameters in extracted BERT model\n",
    "        self.bert.load_state_dict(current_states_dict)\n",
    "\n",
    "        logging.info('Loaded %d learnable parameters from pretrained BERT model with %d layer(s)' %\n",
    "                     (len(list(self.bert.parameters())), num_pretrained_bert_layers))\n",
    "\n",
    "        # Number of input hidden dimensions from the final BERT layer, as input to other layers\n",
    "        input_hidden_dimension = None\n",
    "        if concatenate_hidden_states:\n",
    "            input_hidden_dimension = (num_pretrained_bert_layers + 1) * self.config.hidden_size\n",
    "        else:\n",
    "            input_hidden_dimension = self.config.hidden_size\n",
    "\n",
    "        # Define additional layers & utilities specific to the finetuned task\n",
    "        # Flatten tensors to (B, P*(H or H')) -> converts tensors to 2D for classification\n",
    "        self.flatten_sequence_length = lambda t: t.view(-1,\n",
    "                                                        self.config.max_position_embeddings *\n",
    "                                                        input_hidden_dimension)\n",
    "\n",
    "        # Dropout to prevent overfitting\n",
    "        self.dropout = nn.Dropout(p=dropout_rate)\n",
    "        if self.num_recurrent_layers > 0:\n",
    "            # Recurrent Layer\n",
    "            self.lstm = nn.LSTM(input_size=input_hidden_dimension,\n",
    "                                hidden_size=hidden_size,\n",
    "                                num_layers=num_recurrent_layers,\n",
    "                                bidirectional=use_bidirectional,\n",
    "                                batch_first=True)\n",
    "            # Dense Layer for Classification\n",
    "            self.clf = nn.Linear(in_features=hidden_size*2 if use_bidirectional else hidden_size,\n",
    "                                 out_features=num_classes)\n",
    "        else:\n",
    "            # Dense Layer for Classification\n",
    "            if aggregate_on_cls_token:\n",
    "                self.clf = nn.Linear(in_features=input_hidden_dimension,\n",
    "                                     out_features=num_classes)\n",
    "            else:\n",
    "                self.clf = nn.Linear(in_features=max_tokenization_length * input_hidden_dimension,\n",
    "                                     out_features=num_classes)\n",
    "\n",
    "    def get_tokenizer(self):\n",
    "        \"\"\"Function to easily access the BERT tokenizer\"\"\"\n",
    "        return self.tokenizer\n",
    "\n",
    "    def get_bert_attention(self, raw_sentence, device):\n",
    "        \"\"\"Function for getting the multi-head self-attention output from pretrained BERT\"\"\"\n",
    "        # Tokenize & encode raw sentence\n",
    "        x = tokenize_and_encode(text=raw_sentence,                             # (P)\n",
    "                                tokenizer=self.get_tokenizer(),\n",
    "                                max_tokenization_length=self.config.max_position_embeddings,\n",
    "                                truncation_method='head-only')\n",
    "        # Convert the tokenized list to a Tensor\n",
    "        x = torch.tensor(data=x, device=device)\n",
    "        # Reshape input for BERT output\n",
    "        x = x.unsqueeze(dim=1).view(1, -1)                                     # (B=1, P)\n",
    "        # Get features\n",
    "        token_type_ids, attention_mask = get_features(input_ids=x,\n",
    "                                                      tokenizer=self.get_tokenizer(),\n",
    "                                                      device=device)\n",
    "        # Pass tokenized sequence through pretrained BERT model\n",
    "        bert_outputs = self.bert(input_ids=x,                                  # (...) SEE forward()\n",
    "                                 token_type_ids=token_type_ids,\n",
    "                                 attention_mask=attention_mask,\n",
    "                                 position_ids=None,\n",
    "                                 head_mask=None)\n",
    "        attention_outputs = bert_outputs[3]                                    # ([K] x (1, N, P, P))\n",
    "        return attention_outputs\n",
    "\n",
    "    def forward(self, input_ids, token_type_ids=None, attention_mask=None,     # input_ids: (B, P)\n",
    "                position_ids=None, head_mask=None):\n",
    "        \"\"\"Function implementing a forward pass of the model\"\"\"\n",
    "        # Pass tokenized sequence through pretrained BERT model\n",
    "        bert_outputs = self.bert(input_ids=input_ids,\n",
    "                                 token_type_ids=token_type_ids,\n",
    "                                 attention_mask=attention_mask,\n",
    "                                 position_ids=position_ids,\n",
    "                                 head_mask=head_mask)\n",
    "        sequence_output = bert_outputs[0]                                      # (B, P, H)\n",
    "        pooled_output = bert_outputs[1]                                        # (B, H)\n",
    "        hidden_outputs = bert_outputs[2]                                       # ([K+1] x (B, P, H))\n",
    "        attention_outputs = bert_outputs[3]                                    # ([K] x (B, N, P, P))\n",
    "\n",
    "        if self.concatenate_hidden_states:\n",
    "            sequence_output = torch.cat(hidden_outputs, dim=-1)                # (B, P, H' = (K+1) x H)\n",
    "\n",
    "        if self.num_recurrent_layers > 0:\n",
    "            # Set initial states\n",
    "            if self.use_gpu:\n",
    "                h0 = Variable(torch.zeros(self.num_recurrent_layers * 2        # (L * 2 OR L, B, H)\n",
    "                                          if self.use_bidirectional else self.num_recurrent_layers,\n",
    "                                          input_ids.shape[0],\n",
    "                                          self.hidden_size)).cuda()\n",
    "                c0 = Variable(torch.zeros(self.num_recurrent_layers * 2        # (L * 2 OR L, B, H)\n",
    "                                          if self.use_bidirectional else self.num_recurrent_layers,\n",
    "                                          input_ids.shape[0],\n",
    "                                          self.hidden_size)).cuda()\n",
    "            else:\n",
    "                h0 = Variable(torch.zeros(self.num_recurrent_layers * 2        # (L * 2 OR L, B, H)\n",
    "                                          if self.use_bidirectional else self.num_recurrent_layers,\n",
    "                                          input_ids.shape[0],\n",
    "                                          self.hidden_size))\n",
    "                c0 = Variable(torch.zeros(self.num_recurrent_layers * 2        # (L * 2 OR L, B, H)\n",
    "                                          if self.use_bidirectional else self.num_recurrent_layers,\n",
    "                                          input_ids.shape[0],\n",
    "                                          self.hidden_size))\n",
    "\n",
    "            lstm_output = self.lstm(sequence_output, (h0, c0))                 # (B, P, H*), (2 x (B, B, H*))\n",
    "            sequence_output, _ = lstm_output\n",
    "\n",
    "            # Get last timesteps for each example in the batch; we do this to counteract padding\n",
    "            last_timesteps = []\n",
    "            for i in range(len(attention_mask)):\n",
    "                last_timesteps.append(\n",
    "                    attention_mask[i].tolist().index(0)\n",
    "                    if 0 in attention_mask[i].tolist() else self.tokenizer.max_len - 1\n",
    "                )\n",
    "\n",
    "            if self.use_gpu:\n",
    "                last_timesteps = torch.tensor(data=last_timesteps).cuda()      # (B)\n",
    "            else:\n",
    "                last_timesteps = torch.tensor(data=last_timesteps)             # (B)\n",
    "            relative_hidden_size = self.hidden_size*2 if self.use_bidirectional else self.hidden_size\n",
    "            last_timesteps = last_timesteps.repeat(1, relative_hidden_size)    # (1, B x H*)\n",
    "            last_timesteps = last_timesteps.view(-1, 1, relative_hidden_size)  # (B, 1, H*)\n",
    "            pooled_sequence_output = sequence_output.gather(                   # (B, H*)\n",
    "                dim=1,\n",
    "                index=last_timesteps\n",
    "            ).squeeze()\n",
    "\n",
    "            pooled_sequence_output = self.dropout(pooled_sequence_output)      # (B, H*)\n",
    "            logits = self.clf(pooled_sequence_output)                          # (B, num_classes)\n",
    "        else:\n",
    "            if not self.aggregate_on_cls_token:\n",
    "                pooled_output = self.flatten_sequence_length(sequence_output)  # (B, P x H)\n",
    "\n",
    "            pooled_output = self.dropout(pooled_output)                        # (B, P x H OR H)\n",
    "            logits = self.clf(pooled_output)                                   # (B, num_classes)\n",
    "\n",
    "        return logits                                                          # (B, num_classes)"
   ]
  },
  {
   "cell_type": "markdown",
   "metadata": {
    "id": "Sj-pQmx0a0gk"
   },
   "source": [
    "**Hyperparameters to be tuned**"
   ]
  },
  {
   "cell_type": "code",
   "execution_count": null,
   "metadata": {
    "id": "cthwgvOVax6s"
   },
   "outputs": [],
   "source": [
    "PRETRAINED_MODEL_NAME = 'bert-base-uncased'\n",
    "NUM_PRETRAINED_BERT_LAYERS = 6\n",
    "MAX_TOKENIZATION_LENGTH = 512\n",
    "NUM_CLASSES = num_labels\n",
    "TOP_DOWN = True\n",
    "NUM_RECURRENT_LAYERS = 0\n",
    "HIDDEN_SIZE = 128\n",
    "REINITIALIZE_POOLER_PARAMETERS = False\n",
    "USE_BIDIRECTIONAL = False\n",
    "DROPOUT_RATE = 0.30\n",
    "AGGREGATE_ON_CLS_TOKEN = True\n",
    "CONCATENATE_HIDDEN_STATES = False\n",
    "\n",
    "NUM_WORKERS = 0\n",
    "\n",
    "BERT_LEARNING_RATE = 3e-5\n",
    "CUSTOM_LEARNING_RATE = 1e-3\n",
    "BETAS = (0.9, 0.999)\n",
    "BERT_WEIGHT_DECAY = 0.01\n",
    "EPS = 1e-8"
   ]
  },
  {
   "cell_type": "markdown",
   "metadata": {
    "id": "HPkhwmbna7SD"
   },
   "source": [
    "Model 1 -- with RNN layers and bert layers adjust the hyperparameters above."
   ]
  },
  {
   "cell_type": "code",
   "execution_count": null,
   "metadata": {
    "id": "ELI5Ehc3BTpi"
   },
   "outputs": [],
   "source": [
    "##currently zero rnn layers are there\n",
    "# Initialize to-be-finetuned Bert model\n",
    "model = FineTunedBert(pretrained_model_name=PRETRAINED_MODEL_NAME,\n",
    "                      num_pretrained_bert_layers=NUM_PRETRAINED_BERT_LAYERS,\n",
    "                      max_tokenization_length=MAX_TOKENIZATION_LENGTH,\n",
    "                      num_classes=NUM_CLASSES,\n",
    "                      top_down=TOP_DOWN,\n",
    "                      num_recurrent_layers=NUM_RECURRENT_LAYERS,\n",
    "                      use_bidirectional=USE_BIDIRECTIONAL,\n",
    "                      hidden_size=HIDDEN_SIZE,\n",
    "                      reinitialize_pooler_parameters=REINITIALIZE_POOLER_PARAMETERS,\n",
    "                      dropout_rate=DROPOUT_RATE,\n",
    "                      aggregate_on_cls_token=AGGREGATE_ON_CLS_TOKEN,\n",
    "                      concatenate_hidden_states=CONCATENATE_HIDDEN_STATES,\n",
    "                      use_gpu=True if torch.cuda.is_available() else False)"
   ]
  },
  {
   "cell_type": "markdown",
   "metadata": {
    "id": "pFsIa3DEbH26"
   },
   "source": [
    "Model 2 -- bert with dropout and dense"
   ]
  },
  {
   "cell_type": "code",
   "execution_count": null,
   "metadata": {
    "id": "iDUFeC1cBTpi",
    "scrolled": true
   },
   "outputs": [],
   "source": [
    "class Classifier(nn.Module):\n",
    "\n",
    "  def __init__(self):\n",
    "    super(Classifier, self).__init__()\n",
    "    # Get global BERT config\n",
    "    self.config = BertConfig.from_pretrained(PRETRAINED_MODEL_NAME)\n",
    "    # Extract all parameters (weights and bias matrices) for the 12 layers\n",
    "    self.bert =BertModel.from_pretrained(PRETRAINED_MODEL_NAME,\n",
    "                                                config=self.config)\n",
    "    \n",
    "    self.pre_classifier = torch.nn.Linear(768, 768)\n",
    "    self.drop = nn.Dropout(p=0.3)\n",
    "    self.out = nn.Linear(self.bert.config.hidden_size, 9)\n",
    "    \n",
    "  def forward(self, input_ids, attention_mask,token_type_ids):\n",
    "    _, pooled_output = self.bert(\n",
    "      input_ids=input_ids,\n",
    "      attention_mask=attention_mask, token_type_ids = token_type_ids,return_dict=False\n",
    "    )\n",
    "    pooler = self.pre_classifier(pooled_output)\n",
    "    pooler = torch.nn.Tanh()(pooler)\n",
    "    output = self.drop(pooler)\n",
    "    return self.out(output)"
   ]
  },
  {
   "cell_type": "code",
   "execution_count": null,
   "metadata": {
    "id": "ap_aknVUBTpk",
    "scrolled": true
   },
   "outputs": [],
   "source": [
    "# model = Classifier()\n",
    "# model = model.to(device)"
   ]
  },
  {
   "cell_type": "markdown",
   "metadata": {
    "id": "VD4d2MRwyD97"
   },
   "source": [
    "Model 3  Bert classifier from pretrained (default)  -use any one of these 3 models"
   ]
  },
  {
   "cell_type": "code",
   "execution_count": null,
   "metadata": {
    "id": "_aCTZR1Gp3Do"
   },
   "outputs": [],
   "source": [
    "config = BertConfig.from_pretrained(PRETRAINED_MODEL_NAME)\n",
    "config.num_labels = num_labels\n",
    "model=BertForSequenceClassification(config=config)\n",
    "model = model.to(device)"
   ]
  },
  {
   "cell_type": "code",
   "execution_count": null,
   "metadata": {
    "id": "VmloiPjhkpMb"
   },
   "outputs": [],
   "source": [
    "# Define loss function\n",
    "\n",
    "criterion = torch.nn.BCEWithLogitsLoss(pos_weight=pos_weight)\n",
    "# Define identifiers & group model parameters accordingly \n",
    "bert_identifiers = ['embedding', 'encoder', 'pooler']\n",
    "no_weight_decay_identifiers = ['bias', 'LayerNorm.weight']\n",
    "grouped_model_parameters = [\n",
    "        {'params': [param for name, param in model.named_parameters()\n",
    "                    if any(identifier in name for identifier in bert_identifiers) and\n",
    "                    not any(identifier_ in name for identifier_ in no_weight_decay_identifiers)],\n",
    "         'lr': BERT_LEARNING_RATE,\n",
    "         'betas': BETAS,\n",
    "         'weight_decay': BERT_WEIGHT_DECAY,\n",
    "         'eps': EPS},\n",
    "        {'params': [param for name, param in model.named_parameters()\n",
    "                    if any(identifier in name for identifier in bert_identifiers) and\n",
    "                    any(identifier_ in name for identifier_ in no_weight_decay_identifiers)],\n",
    "         'lr': BERT_LEARNING_RATE,\n",
    "         'betas': BETAS,\n",
    "         'weight_decay': 0.0,\n",
    "         'eps': EPS},\n",
    "        {'params': [param for name, param in model.named_parameters()\n",
    "                    if not any(identifier in name for identifier in bert_identifiers)],\n",
    "         'lr': CUSTOM_LEARNING_RATE,\n",
    "         'betas': BETAS,\n",
    "         'weight_decay': 0.0,\n",
    "         'eps': EPS}\n",
    "]\n",
    "\n",
    "# Define optimizer\n",
    "optimizer = AdamW(grouped_model_parameters)\n",
    "\n",
    "# Place model & loss function on GPU\n",
    "model, criterion = model.to(device), criterion.to(device)"
   ]
  },
  {
   "cell_type": "code",
   "execution_count": null,
   "metadata": {
    "id": "CbGBBgREBTpk"
   },
   "outputs": [],
   "source": [
    "EPOCHS = 100\n",
    "\n",
    "# # optimizer = AdamW(model.parameters(), lr=2e-5)\n",
    "# optimizer = AdamW(model.parameters(),\n",
    "#                   lr = 2e-5, # args.learning_rate - default is 5e-5, our notebook had 2e-5\n",
    "#                   eps = 1e-8 # args.adam_epsilon  - default is 1e-8.\n",
    "#                 )\n",
    "total_steps = len(train_data_loader) * EPOCHS\n",
    "\n",
    "scheduler = get_linear_schedule_with_warmup(\n",
    "  optimizer,\n",
    "  num_warmup_steps=0,\n",
    "  num_training_steps=total_steps\n",
    ")\n",
    "\n",
    "def loss_fn(outputs, targets):\n",
    "    return torch.nn.BCEWithLogitsLoss()(outputs, targets).to(device)"
   ]
  },
  {
   "cell_type": "code",
   "execution_count": null,
   "metadata": {
    "id": "RfvR9lYCBTpl"
   },
   "outputs": [],
   "source": [
    "from tensorflow.keras.metrics import binary_accuracy,Precision,Recall\n",
    "def custom_acc(y_true, y_pred):\n",
    "    return binary_accuracy(y_true, y_pred)\n",
    "\n",
    "def custom_prec(y_true, y_pred):\n",
    "    m = Precision()\n",
    "    m.update_state(y_true, y_pred)\n",
    "    return m.result()  \n",
    "    \n",
    "def custom_rec(y_true, y_pred):\n",
    "    m = Recall()\n",
    "    m.update_state(y_true, y_pred)\n",
    "    return m.result()     "
   ]
  },
  {
   "cell_type": "code",
   "execution_count": null,
   "metadata": {
    "id": "cW_oHJWCBTpm"
   },
   "outputs": [],
   "source": [
    "def train_epoch(\n",
    "  model, \n",
    "  data_loader, \n",
    "  loss_fn, \n",
    "  optimizer, \n",
    "  device, \n",
    "  scheduler, \n",
    "  n_examples\n",
    "):\n",
    "    model = model.train()\n",
    "    accs = []\n",
    "    losses = []\n",
    "    precs=[]\n",
    "    recs=[]\n",
    "\n",
    "    for d in data_loader:\n",
    "        input_ids = d[\"input_ids\"].to(device)\n",
    "        attention_mask = d[\"attention_mask\"].to(device)\n",
    "        targets = d[\"targets\"].to(device)\n",
    "        token_type_ids = d['token_type_ids'].to(device, dtype = torch.long)\n",
    "        outputs = model(\n",
    "          input_ids=input_ids,\n",
    "          attention_mask=attention_mask,\n",
    "          token_type_ids=token_type_ids\n",
    "        )\n",
    "        outputs=outputs.logits.to(device)\n",
    "        loss = criterion(outputs, targets.type_as(outputs))\n",
    "        outputs=outputs.sigmoid()\n",
    "        outputs = np.where(outputs.cpu()>= 0.5,1,0)\n",
    "\n",
    "#         correct_predictions += torch.sum(preds == targets)\n",
    "        accs.append(custom_acc(outputs,targets.cpu()).numpy().mean())\n",
    "        precs.append(custom_prec(outputs,targets.cpu()).numpy())\n",
    "        recs.append(custom_rec(outputs,targets.cpu()).numpy().mean())\n",
    "        losses.append(loss.item())\n",
    "\n",
    "        loss.backward()\n",
    "        nn.utils.clip_grad_norm_(model.parameters(), max_norm=1.0)\n",
    "        optimizer.step()\n",
    "        scheduler.step()\n",
    "        optimizer.zero_grad()\n",
    "\n",
    "    return model,np.mean(accs), np.mean(losses),np.mean(precs), np.mean(recs)"
   ]
  },
  {
   "cell_type": "code",
   "execution_count": null,
   "metadata": {
    "id": "yAJhPxv5BTpm"
   },
   "outputs": [],
   "source": [
    "def eval_model(model, data_loader, loss_fn, device, n_examples):\n",
    "    model = model.eval()\n",
    "\n",
    "    losses = []\n",
    "    accs = []\n",
    "    precs=[]\n",
    "    recs=[]\n",
    "    with torch.no_grad():\n",
    "        for d in data_loader:\n",
    "            input_ids = d[\"input_ids\"].to(device)\n",
    "            attention_mask = d[\"attention_mask\"].to(device)\n",
    "            targets = d[\"targets\"].to(device)\n",
    "            token_type_ids = d['token_type_ids'].to(device, dtype = torch.long)\n",
    "\n",
    "            outputs = model(\n",
    "              input_ids=input_ids,\n",
    "              attention_mask=attention_mask,\n",
    "                token_type_ids=token_type_ids\n",
    "            )\n",
    "            outputs=outputs.logits.to(device)\n",
    "            loss = criterion(outputs, targets.type_as(outputs))\n",
    "            outputs=outputs.sigmoid()\n",
    "            outputs = np.where(outputs.cpu()>= 0.5,1,0)\n",
    "            accs.append(custom_acc(targets.cpu(),outputs).numpy().mean())\n",
    "            precs.append(custom_prec(outputs,targets.cpu()).numpy())\n",
    "            recs.append(custom_rec(outputs,targets.cpu()).numpy().mean())\n",
    "#             correct_predictions += torch.sum(preds == targets)\n",
    "            losses.append(loss.item())\n",
    "\n",
    "    return np.mean(accs), np.mean(losses),np.mean(precs), np.mean(recs)"
   ]
  },
  {
   "cell_type": "code",
   "execution_count": null,
   "metadata": {
    "colab": {
     "base_uri": "https://localhost:8080/"
    },
    "id": "GCH34ehfBTpv",
    "outputId": "c7f916e9-8ab8-43aa-ef80-784808e6f757",
    "scrolled": true
   },
   "outputs": [
    {
     "name": "stdout",
     "output_type": "stream",
     "text": [
      "Epoch 1/100\n",
      "----------\n"
     ]
    },
    {
     "name": "stderr",
     "output_type": "stream",
     "text": [
      "/usr/local/lib/python3.6/dist-packages/transformers/tokenization_utils_base.py:2179: FutureWarning: The `pad_to_max_length` argument is deprecated and will be removed in a future version, use `padding=True` or `padding='longest'` to pad to the longest sequence in the batch, or use `padding='max_length'` to pad to a max length. In this case, you can give a specific length with `max_length` (e.g. `max_length=45`) or leave max_length to None to pad to the maximal input size of the model (e.g. 512 for Bert).\n",
      "  FutureWarning,\n"
     ]
    },
    {
     "name": "stdout",
     "output_type": "stream",
     "text": [
      "Train loss 1.0156726580942694 accuracy 0.9374089241027832 precision 0.8729257583618164 recall 0.8283365368843079\n",
      "Val   loss 3.749189516496376 accuracy 0.7041419744491577 precision 0.0 recall 0.0\n",
      "Epoch 2/100\n",
      "----------\n",
      "Train loss 1.2132155647698444 accuracy 0.9319747686386108 precision 0.8489083051681519 recall 0.8061426281929016\n",
      "Val   loss 4.3509056991373996 accuracy 0.7041419744491577 precision 0.0 recall 0.0\n",
      "Epoch 3/100\n",
      "----------\n",
      "Train loss 1.4415333842662794 accuracy 0.9283843040466309 precision 0.8486171364784241 recall 0.7980349063873291\n",
      "Val   loss 5.902927709049021 accuracy 0.7041419744491577 precision 0.0 recall 0.0\n",
      "Epoch 4/100\n",
      "----------\n",
      "Train loss 1.2446137001423592 accuracy 0.9251819849014282 precision 0.8294031620025635 recall 0.7858078479766846\n",
      "Val   loss 3.945792694768962 accuracy 0.7041419744491577 precision 0.0 recall 0.0\n",
      "Epoch 5/100\n",
      "----------\n"
     ]
    }
   ],
   "source": [
    "%%time\n",
    "\n",
    "import gc \n",
    "history = defaultdict(list)\n",
    "best_accuracy = 0\n",
    "for epoch in range(EPOCHS):\n",
    "\n",
    "  print(f'Epoch {epoch + 1}/{EPOCHS}')\n",
    "  print('-' * 10)\n",
    "\n",
    "  model,train_acc, train_loss,train_prec,train_rec = train_epoch(\n",
    "    model,\n",
    "    train_data_loader,    \n",
    "    loss_fn, \n",
    "    optimizer, \n",
    "    device, \n",
    "    scheduler, \n",
    "    len(train)\n",
    "  )\n",
    "\n",
    "  print(f'Train loss {train_loss} accuracy {train_acc} precision {train_prec} recall {train_rec}')\n",
    "\n",
    "  val_acc, val_loss,val_prec,val_rec = eval_model(\n",
    "    model,\n",
    "    val_data_loader,\n",
    "    loss_fn, \n",
    "    device, \n",
    "    len(val)\n",
    "  )\n",
    "\n",
    "  print(f'Val   loss {val_loss} accuracy {val_acc} precision {val_prec} recall {val_rec}')\n",
    "\n",
    "  history['train_acc'].append(train_acc)\n",
    "  history['train_loss'].append(train_loss)\n",
    "  history['val_acc'].append(val_acc)\n",
    "  history['val_loss'].append(val_loss)\n",
    "\n",
    "  if val_acc > best_accuracy:\n",
    "    torch.save(model.state_dict(), 'best_model_state.bin')\n",
    "    best_accuracy = val_acc\n",
    "  gc.collect() \n",
    "  torch.cuda.empty_cache()"
   ]
  },
  {
   "cell_type": "markdown",
   "metadata": {
    "id": "rHjSh0rZBTpw"
   },
   "source": [
    "## plotting train and validation losses-- currently only trained for 5 epochs"
   ]
  },
  {
   "cell_type": "code",
   "execution_count": null,
   "metadata": {
    "colab": {
     "base_uri": "https://localhost:8080/",
     "height": 523
    },
    "id": "PK-FkZDtBTpw",
    "outputId": "2f8c9390-6e70-40f8-d52f-050e60727cce",
    "scrolled": true
   },
   "outputs": [
    {
     "data": {
      "image/png": "[encoded data removed]",
      "text/plain": [
       "<Figure size 864x576 with 1 Axes>"
      ]
     },
     "metadata": {
      "image/png": {
       "height": 506,
       "width": 732
      },
      "tags": []
     },
     "output_type": "display_data"
    }
   ],
   "source": [
    "plt.plot(history['train_loss'], label='train loss')\n",
    "plt.plot(history['val_loss'], label='validation loss')\n",
    "plt.title('Training history')\n",
    "plt.ylabel('loss')\n",
    "plt.xlabel('Epoch')\n",
    "plt.legend()\n",
    "plt.ylim([0, 1]);"
   ]
  },
  {
   "cell_type": "markdown",
   "metadata": {
    "id": "QlYMijc-BTpx"
   },
   "source": [
    "Using 10% data as test set and testing the trained model for calculating accuracy"
   ]
  },
  {
   "cell_type": "code",
   "execution_count": null,
   "metadata": {
    "colab": {
     "base_uri": "https://localhost:8080/"
    },
    "id": "hFZ3GKI5BTpy",
    "outputId": "b0377161-9ba2-4384-9c81-0d1a159f7711",
    "scrolled": true
   },
   "outputs": [
    {
     "name": "stderr",
     "output_type": "stream",
     "text": [
      "/usr/local/lib/python3.6/dist-packages/transformers/tokenization_utils_base.py:2179: FutureWarning: The `pad_to_max_length` argument is deprecated and will be removed in a future version, use `padding=True` or `padding='longest'` to pad to the longest sequence in the batch, or use `padding='max_length'` to pad to a max length. In this case, you can give a specific length with `max_length` (e.g. `max_length=45`) or leave max_length to None to pad to the maximal input size of the model (e.g. 512 for Bert).\n",
      "  FutureWarning,\n"
     ]
    },
    {
     "data": {
      "text/plain": [
       "0.8535879254341125"
      ]
     },
     "execution_count": 44,
     "metadata": {
      "tags": []
     },
     "output_type": "execute_result"
    }
   ],
   "source": [
    "test_acc, _ = eval_model(\n",
    "  model,\n",
    "  test_data_loader,\n",
    "  loss_fn,\n",
    "  device,\n",
    "  len(test)\n",
    ")\n",
    "\n",
    "test_acc.item()"
   ]
  },
  {
   "cell_type": "markdown",
   "metadata": {
    "id": "O27vN7x5ZB5w"
   },
   "source": [
    "**Testing on Test set**\n",
    "\n",
    "The test set has single text split into multiple text , so we find the predictions for same "
   ]
  },
  {
   "cell_type": "code",
   "execution_count": null,
   "metadata": {
    "colab": {
     "base_uri": "https://localhost:8080/"
    },
    "id": "tBTK05aeWnHq",
    "outputId": "448a8416-2e19-469d-bc2a-3f687983d405"
   },
   "outputs": [
    {
     "name": "stderr",
     "output_type": "stream",
     "text": [
      "/usr/local/lib/python3.6/dist-packages/transformers/tokenization_utils_base.py:2179: FutureWarning: The `pad_to_max_length` argument is deprecated and will be removed in a future version, use `padding=True` or `padding='longest'` to pad to the longest sequence in the batch, or use `padding='max_length'` to pad to a max length. In this case, you can give a specific length with `max_length` (e.g. `max_length=45`) or leave max_length to None to pad to the maximal input size of the model (e.g. 512 for Bert).\n",
      "  FutureWarning,\n"
     ]
    }
   ],
   "source": [
    "articles=[]\n",
    "preds=[]\n",
    "with torch.no_grad():\n",
    "    for d in test_data_loader:\n",
    "        article=d[\"article_id\"]\n",
    "        input_ids = d[\"input_ids\"].to(device)\n",
    "        attention_mask = d[\"attention_mask\"].to(device)\n",
    "        targets = d[\"targets\"].to(device)\n",
    "        token_type_ids = d['token_type_ids'].to(device, dtype = torch.long)\n",
    "\n",
    "        outputs = model(\n",
    "          input_ids=input_ids,\n",
    "          attention_mask=attention_mask,\n",
    "            token_type_ids=token_type_ids\n",
    "        )\n",
    "      \n",
    "        loss = loss_fn(outputs, targets.type_as(outputs))\n",
    "        outputs=outputs.sigmoid()\n",
    "        outputs = np.where(outputs.cpu()>= 0.5,1,0)\n",
    "        articles.append(int(article.cpu().numpy()[0]))\n",
    "        preds.append(outputs[0].tolist())\n",
    "test_results=pd.DataFrame({'articles':articles,'Predictions':preds})"
   ]
  },
  {
   "cell_type": "code",
   "execution_count": null,
   "metadata": {
    "id": "0LiqNoUChGhv"
   },
   "outputs": [],
   "source": [
    "test_results.sort_values('articles')"
   ]
  },
  {
   "cell_type": "markdown",
   "metadata": {
    "id": "_jWUcZFLxSym"
   },
   "source": [
    "Now making the code to make a voting classifier. here the article paragraph is split into multiple lines so that the model could train within 4096 tokens"
   ]
  },
  {
   "cell_type": "markdown",
   "metadata": {
    "id": "kOWMzSHoxacv"
   },
   "source": [
    "As you can see one article id has more than one entry. .so we will join create a voting ensemble model to get the score for each class\n"
   ]
  },
  {
   "cell_type": "code",
   "execution_count": null,
   "metadata": {
    "colab": {
     "base_uri": "https://localhost:8080/",
     "height": 175
    },
    "id": "Ni1Ht4EKhZf-",
    "outputId": "e61d4d6c-67bd-4c39-d033-05269cd8e871"
   },
   "outputs": [
    {
     "data": {
      "text/html": [
       "<div>\n",
       "<style scoped>\n",
       "    .dataframe tbody tr th:only-of-type {\n",
       "        vertical-align: middle;\n",
       "    }\n",
       "\n",
       "    .dataframe tbody tr th {\n",
       "        vertical-align: top;\n",
       "    }\n",
       "\n",
       "    .dataframe thead th {\n",
       "        text-align: right;\n",
       "    }\n",
       "</style>\n",
       "<table border=\"1\" class=\"dataframe\">\n",
       "  <thead>\n",
       "    <tr style=\"text-align: right;\">\n",
       "      <th></th>\n",
       "      <th>article_id</th>\n",
       "      <th>TEXT</th>\n",
       "      <th>LABEL</th>\n",
       "    </tr>\n",
       "  </thead>\n",
       "  <tbody>\n",
       "    <tr>\n",
       "      <th>0</th>\n",
       "      <td>11547</td>\n",
       "      <td>Editorial Notes T he performance of the journa...</td>\n",
       "      <td>[0, 0, 0, 0, 0, 0, 0, 1, 0]</td>\n",
       "    </tr>\n",
       "    <tr>\n",
       "      <th>9</th>\n",
       "      <td>2869</td>\n",
       "      <td>New games new rules big data and the changing ...</td>\n",
       "      <td>[0, 0, 0, 0, 0, 0, 0, 1, 0]</td>\n",
       "    </tr>\n",
       "    <tr>\n",
       "      <th>87</th>\n",
       "      <td>12514</td>\n",
       "      <td>Information Technology and Organizational Cont...</td>\n",
       "      <td>[0, 1, 0, 0, 0, 0, 0, 1, 0]</td>\n",
       "    </tr>\n",
       "    <tr>\n",
       "      <th>134</th>\n",
       "      <td>6088</td>\n",
       "      <td>Factors affecting perceptions of CASE effectiv...</td>\n",
       "      <td>[0, 1, 0, 0, 0, 0, 0, 0, 1]</td>\n",
       "    </tr>\n",
       "  </tbody>\n",
       "</table>\n",
       "</div>"
      ],
      "text/plain": [
       "     article_id  ...                        LABEL\n",
       "0         11547  ...  [0, 0, 0, 0, 0, 0, 0, 1, 0]\n",
       "9          2869  ...  [0, 0, 0, 0, 0, 0, 0, 1, 0]\n",
       "87        12514  ...  [0, 1, 0, 0, 0, 0, 0, 1, 0]\n",
       "134        6088  ...  [0, 1, 0, 0, 0, 0, 0, 0, 1]\n",
       "\n",
       "[4 rows x 3 columns]"
      ]
     },
     "execution_count": 52,
     "metadata": {
      "tags": []
     },
     "output_type": "execute_result"
    }
   ],
   "source": [
    "import scipy\n",
    "def moding(labels):\n",
    "  return np.squeeze(scipy.stats.mode(labels.values[:,1:], axis=0)[0],axis=0)"
   ]
  },
  {
   "cell_type": "code",
   "execution_count": null,
   "metadata": {
    "id": "SizVSnHXheJm"
   },
   "outputs": [],
   "source": [
    "test_results_2=pd.concat([test_results['articles'],pd.DataFrame(test_results['Predictions'].tolist(), index= test_results.index)],axis=1)\n",
    "test_results_2=test_results_2.groupby('articles').apply(moding).reset_index().rename(columns={0:'Predictions'})\n",
    "test_results_2=  pd.concat([test_results_2['articles'],pd.DataFrame(test_results_2['Predictions'].tolist(), index= test_results_2.index)],axis=1)"
   ]
  },
  {
   "cell_type": "code",
   "execution_count": null,
   "metadata": {
    "id": "MrQWAMBWxfze"
   },
   "outputs": [],
   "source": [
    "test_results_2"
   ]
  },
  {
   "cell_type": "markdown",
   "metadata": {
    "id": "Qs8Zsdb5xido"
   },
   "source": [
    "Test set "
   ]
  },
  {
   "cell_type": "code",
   "execution_count": null,
   "metadata": {
    "id": "oqcb3Ct3xfsw"
   },
   "outputs": [],
   "source": [
    "test_2=test.drop(['TEXT'],1)\n",
    "test_2.drop_duplicates(subset=['article_id'],inplace=True)\n",
    "test_2=  pd.concat([test_2['article_id'],pd.DataFrame(test_2['LABEL'].tolist(), index= test_2.index)],axis=1)\n",
    "test_2"
   ]
  },
  {
   "cell_type": "code",
   "execution_count": null,
   "metadata": {
    "id": "nD3_z99kxfp8"
   },
   "outputs": [],
   "source": [
    "label_names=dataset.iloc[:,3:-1].columns.tolist()\n",
    "label_names"
   ]
  },
  {
   "cell_type": "code",
   "execution_count": null,
   "metadata": {
    "id": "LXCFrCocxfm-"
   },
   "outputs": [],
   "source": [
    "from sklearn.metrics import roc_curve, auc,accuracy_score,recall_score,precision_score\n",
    "# Compute ROC curve and ROC area for each class\n",
    "fpr = dict()\n",
    "tpr = dict()\n",
    "roc_auc = dict()\n",
    "accuracy=dict()\n",
    "precison=dict()\n",
    "recall=dict()\n",
    "for j in range(num_labels):\n",
    "  i=label_names[j]\n",
    "  fpr[i], tpr[i], _ = roc_curve(test_2.loc[:, j], test_results_2.loc[:, j])\n",
    "  roc_auc[i] = auc(fpr[i], tpr[i])\n",
    "  accuracy[i]=accuracy_score(test_2.loc[:, j], test_results_2.loc[:, j])\n",
    "  precison[i]=precision_score(test_2.loc[:, j], test_results_2.loc[:, j])\n",
    "  recall[i]=recall_score(test_2.loc[:, j], test_results_2.loc[:, j])\n",
    "\n",
    "# Compute micro-average ROC curve and ROC area\n",
    "fpr[\"micro\"], tpr[\"micro\"], _ = roc_curve(test_2.iloc[:, 1:].values.ravel(), test_results_2.iloc[:, 1:].values.ravel())\n",
    "roc_auc[\"micro\"] = auc(fpr[\"micro\"], tpr[\"micro\"])"
   ]
  },
  {
   "cell_type": "code",
   "execution_count": null,
   "metadata": {
    "id": "hh3VjwfGxxS5"
   },
   "outputs": [],
   "source": [
    "precison"
   ]
  }
 ],
 "metadata": {
  "accelerator": "GPU",
  "colab": {
   "collapsed_sections": [],
   "name": "bert_model_full.ipynb",
   "provenance": [],
   "toc_visible": true
  },
  "kernelspec": {
   "display_name": "Python 3",
   "language": "python",
   "name": "python3"
  },
  "language_info": {
   "codemirror_mode": {
    "name": "ipython",
    "version": 3
   },
   "file_extension": ".py",
   "mimetype": "text/x-python",
   "name": "python",
   "nbconvert_exporter": "python",
   "pygments_lexer": "ipython3",
   "version": "3.6.5"
  }
 },
 "nbformat": 4,
 "nbformat_minor": 1
}
